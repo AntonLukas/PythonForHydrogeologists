{
 "cells": [
  {
   "cell_type": "markdown",
   "metadata": {
    "id": "1RqJiodPWt_x"
   },
   "source": [
    "# Python Applications: GeoPandas Data Exploration"
   ]
  },
  {
   "cell_type": "code",
   "execution_count": null,
   "metadata": {
    "executionInfo": {
     "elapsed": 658,
     "status": "ok",
     "timestamp": 1722850116699,
     "user": {
      "displayName": "Anton Lukas",
      "userId": "17004432995420014713"
     },
     "user_tz": -120
    },
    "id": "EMPetT6tW9O-"
   },
   "outputs": [],
   "source": [
    "import pandas as pd\n",
    "import geopandas as gpd\n",
    "import matplotlib.pyplot as plt\n",
    "import numpy as np\n",
    "import rasterio"
   ]
  },
  {
   "cell_type": "markdown",
   "metadata": {
    "id": "aHG4k5DFWt_0"
   },
   "source": [
    "- Libraries generally have tutorials and detailed documentation available.\n",
    "- The most important part of learning to code is how capable you are at using your search engine."
   ]
  },
  {
   "cell_type": "markdown",
   "metadata": {
    "id": "Do36nnF-Wt_0"
   },
   "source": [
    "# Basic Operations on GIS Data\n",
    "\n",
    "In this cell, we begin by loading a vector dataset containing borehole information using GeoPandas, a useful package that brings spatial data handling to the world of pandas.\n",
    "\n",
    "Step-by-Step Actions:\n",
    "\n",
    "- Define Data Path: source_boreholes stores the relative path to a shapefile (*.shp) containing borehole locations.\n",
    "\n",
    "- Load with read_file(): gpd.read_file() reads the shapefile into a GeoDataFrame (df_boreholes), preserving both attribute and geometry data.\n",
    "\n",
    "- Inspect with .info(): This method displays a summary of the dataset, including:\n",
    "\n",
    "    - Number of entries (e.g., boreholes)\n",
    "\n",
    "    - Data types and memory usage\n",
    "\n",
    "    - Column names and non-null counts"
   ]
  },
  {
   "cell_type": "code",
   "execution_count": null,
   "metadata": {
    "ExecuteTime": {
     "end_time": "2024-07-24T20:34:25.301423Z",
     "start_time": "2024-07-24T20:34:25.268668Z"
    },
    "colab": {
     "base_uri": "https://localhost:8080/"
    },
    "executionInfo": {
     "elapsed": 575,
     "status": "ok",
     "timestamp": 1722850117273,
     "user": {
      "displayName": "Anton Lukas",
      "userId": "17004432995420014713"
     },
     "user_tz": -120
    },
    "id": "Noze8ADFWt_0",
    "outputId": "ade83cbe-4463-455b-9318-91f0c7cf7311"
   },
   "outputs": [],
   "source": [
    "# Define the path to the file\n",
    "source_boreholes = './data/GIS/UFS_Boreholes.shp'\n",
    "# Feed the path to the file to the Geopandas Read File function\n",
    "df_boreholes = gpd.read_file(source_boreholes)\n",
    "# Let us display some basic information of the loaded shapefile\n",
    "df_boreholes.info()\n",
    "# These methods are very useful when working with large data sets,\n",
    "# where GIS software can slow down significantly due to the rendering."
   ]
  },
  {
   "cell_type": "code",
   "execution_count": null,
   "metadata": {
    "ExecuteTime": {
     "end_time": "2024-07-24T20:34:25.311988Z",
     "start_time": "2024-07-24T20:34:25.301423Z"
    },
    "colab": {
     "base_uri": "https://localhost:8080/",
     "height": 300
    },
    "executionInfo": {
     "elapsed": 12,
     "status": "ok",
     "timestamp": 1722850117273,
     "user": {
      "displayName": "Anton Lukas",
      "userId": "17004432995420014713"
     },
     "user_tz": -120
    },
    "id": "K5Z3QbsNWt_2",
    "outputId": "679d680a-618a-4c61-fbf3-9c0b483857d2"
   },
   "outputs": [],
   "source": [
    "# Similar to regular Pandas:\n",
    "# We can also request a description of the shapefile which will give statistics for the included data\n",
    "df_boreholes.describe()"
   ]
  },
  {
   "cell_type": "code",
   "execution_count": null,
   "metadata": {
    "ExecuteTime": {
     "end_time": "2024-07-24T20:34:25.317654Z",
     "start_time": "2024-07-24T20:34:25.313105Z"
    },
    "colab": {
     "base_uri": "https://localhost:8080/"
    },
    "executionInfo": {
     "elapsed": 10,
     "status": "ok",
     "timestamp": 1722850117273,
     "user": {
      "displayName": "Anton Lukas",
      "userId": "17004432995420014713"
     },
     "user_tz": -120
    },
    "id": "cksFhn5kWt_2",
    "outputId": "f7a19393-78c2-42cc-c940-d86388ec7ca8"
   },
   "outputs": [],
   "source": [
    "# If we want to know the coordinate reference system of the shapefile it only requires a single command\n",
    "df_boreholes.crs"
   ]
  },
  {
   "cell_type": "code",
   "execution_count": null,
   "metadata": {
    "ExecuteTime": {
     "end_time": "2024-07-24T20:34:25.325183Z",
     "start_time": "2024-07-24T20:34:25.317654Z"
    },
    "colab": {
     "base_uri": "https://localhost:8080/",
     "height": 241
    },
    "executionInfo": {
     "elapsed": 9,
     "status": "ok",
     "timestamp": 1722850117273,
     "user": {
      "displayName": "Anton Lukas",
      "userId": "17004432995420014713"
     },
     "user_tz": -120
    },
    "id": "cugh5330Wt_3",
    "outputId": "bf978424-ab8f-4cfe-a9d9-3522cbeeafb7"
   },
   "outputs": [],
   "source": [
    "# We can also just request the geometry of the object, disregarding any attached data\n",
    "df_boreholes.geometry.head()"
   ]
  },
  {
   "cell_type": "code",
   "execution_count": null,
   "metadata": {
    "ExecuteTime": {
     "end_time": "2024-07-24T20:34:25.335752Z",
     "start_time": "2024-07-24T20:34:25.325183Z"
    },
    "colab": {
     "base_uri": "https://localhost:8080/",
     "height": 363
    },
    "executionInfo": {
     "elapsed": 8,
     "status": "ok",
     "timestamp": 1722850117273,
     "user": {
      "displayName": "Anton Lukas",
      "userId": "17004432995420014713"
     },
     "user_tz": -120
    },
    "id": "wYt8cMDAWt_3",
    "outputId": "aa7c3bab-33ae-43e5-c71f-1f55d91aee7e"
   },
   "outputs": [],
   "source": [
    "# This will be the primary way of viewing the data\n",
    "df_boreholes.head(10)\n",
    "# The head command displays the fist 5 records in the dataset, we modify it to show 10"
   ]
  },
  {
   "cell_type": "code",
   "execution_count": null,
   "metadata": {
    "ExecuteTime": {
     "end_time": "2024-07-24T20:34:27.959Z",
     "start_time": "2024-07-24T20:34:25.335752Z"
    },
    "colab": {
     "base_uri": "https://localhost:8080/",
     "height": 1000
    },
    "executionInfo": {
     "elapsed": 10598,
     "status": "ok",
     "timestamp": 1722850127864,
     "user": {
      "displayName": "Anton Lukas",
      "userId": "17004432995420014713"
     },
     "user_tz": -120
    },
    "id": "vZEIZ0yrWt_4",
    "outputId": "52ac1109-221b-47e8-aaa6-70f13d1c646f"
   },
   "outputs": [],
   "source": [
    "# We can evoke the explore method to visualize our data\n",
    "# The default tiles for explore is Open Street Map\n",
    "df_boreholes.explore()"
   ]
  },
  {
   "cell_type": "markdown",
   "metadata": {
    "id": "HiSxg_BRWt_4"
   },
   "source": [
    "Let us calculate the distance between two boreholes on the map. But first, we need to change to a projected CRS:"
   ]
  },
  {
   "cell_type": "code",
   "execution_count": null,
   "metadata": {
    "ExecuteTime": {
     "end_time": "2024-07-24T20:34:28.061394Z",
     "start_time": "2024-07-24T20:34:27.959Z"
    },
    "colab": {
     "base_uri": "https://localhost:8080/"
    },
    "executionInfo": {
     "elapsed": 3,
     "status": "ok",
     "timestamp": 1722850127864,
     "user": {
      "displayName": "Anton Lukas",
      "userId": "17004432995420014713"
     },
     "user_tz": -120
    },
    "id": "-uCHwik1Wt_5",
    "outputId": "0e1d57a6-7d7f-4ac1-b224-09a82fafd280"
   },
   "outputs": [],
   "source": [
    "# First we need to convert the CRS of the boreholes\n",
    "# from a geographic CRS to a projected CRS\n",
    "df_boreholes_Merc = df_boreholes.to_crs(3395) # WGS84 / World Mercator\n",
    "# Save the newly projected file to a geopackage.\n",
    "df_boreholes_Merc.to_file('./output/UFS_Boreholes_Merc.gpkg',\n",
    "                           driver='GPKG',\n",
    "                           layer='boreholes')\n",
    "# Let us make sure the CRS change has taken effect.\n",
    "df_boreholes_Merc.crs"
   ]
  },
  {
   "cell_type": "markdown",
   "metadata": {},
   "source": [
    "Next, we isolate and display the records for two specific boreholes using attribute filtering.\n",
    "\n",
    "What’s happening:\n",
    "\n",
    "- Define Borehole IDs: Stores the identifiers of two target boreholes, 'UO10' and 'UO24', into borehole_name_a and borehole_name_b.\n",
    "\n",
    "- Filter GeoDataFrame:\n",
    "\n",
    "    - Uses .loc[] indexing with a conditional filter (['ID'] == borehole_name) to extract matching records from df_boreholes_Merc.\n",
    "\n",
    "    - These filters yield two new GeoDataFrames: borehole_a and borehole_b, each containing a single record.\n",
    "\n",
    "- Display Borehole Info: print(borehole_a.head()) shows the attribute and geometry data of the selected borehole to confirm the filter was successful."
   ]
  },
  {
   "cell_type": "code",
   "execution_count": null,
   "metadata": {
    "ExecuteTime": {
     "end_time": "2024-07-24T20:34:28.066175Z",
     "start_time": "2024-07-24T20:34:28.061394Z"
    },
    "colab": {
     "base_uri": "https://localhost:8080/"
    },
    "executionInfo": {
     "elapsed": 2,
     "status": "ok",
     "timestamp": 1722850127864,
     "user": {
      "displayName": "Anton Lukas",
      "userId": "17004432995420014713"
     },
     "user_tz": -120
    },
    "id": "481F2h1DWt_5",
    "outputId": "32b04d4e-f5a1-4814-f769-9f870657d4c1"
   },
   "outputs": [],
   "source": [
    "# Add the identifiers of the boreholes in question\n",
    "borehole_name_a = 'UO10'\n",
    "borehole_name_b = 'UO24'\n",
    "# Get the boreholes from the shapefile\n",
    "borehole_a = df_boreholes_Merc.loc[\n",
    "    df_boreholes_Merc['ID'] == borehole_name_a\n",
    "]\n",
    "borehole_b = df_boreholes_Merc.loc[\n",
    "    df_boreholes_Merc['ID'] == borehole_name_b\n",
    "]\n",
    "# Print the information of the boreholes\n",
    "print(borehole_a.head())"
   ]
  },
  {
   "cell_type": "code",
   "execution_count": null,
   "metadata": {
    "ExecuteTime": {
     "end_time": "2024-07-24T20:34:28.076387Z",
     "start_time": "2024-07-24T20:34:28.067332Z"
    },
    "colab": {
     "base_uri": "https://localhost:8080/"
    },
    "executionInfo": {
     "elapsed": 10,
     "status": "ok",
     "timestamp": 1722850128582,
     "user": {
      "displayName": "Anton Lukas",
      "userId": "17004432995420014713"
     },
     "user_tz": -120
    },
    "id": "A2WJmN_WWt_6",
    "outputId": "194b9322-48ca-4df7-b671-3852b1e4d2ab"
   },
   "outputs": [],
   "source": [
    "# Print the information of the second borehole\n",
    "print(borehole_b.head())\n",
    "# Not how the geometry has different coordinates\n",
    "# This is due to the CRS transformation, but geopandas will keep the original values in the shapefile."
   ]
  },
  {
   "cell_type": "markdown",
   "metadata": {},
   "source": [
    "Now that we've isolated the two boreholes of interest, next we use GeoPandas to calculate the Euclidean (straight-line) distance between them in meters.\n",
    "\n",
    "How It Works:\n",
    "\n",
    "- .distance() Method: Computes the shortest distance between the geometries of borehole_a and borehole_b.\n",
    "\n",
    "- The parameter align=False ensures the distance is calculated across full GeoDataFrames without requiring index alignment. This is essential when comparing two single-row frames.\n",
    "\n",
    "- Accessing the Result: The result is a GeoSeries with a single value, so we extract it with .iloc[0], cast it to float, and round it to two decimal places for readability."
   ]
  },
  {
   "cell_type": "code",
   "execution_count": null,
   "metadata": {
    "ExecuteTime": {
     "end_time": "2024-07-24T20:34:28.085406Z",
     "start_time": "2024-07-24T20:34:28.076387Z"
    },
    "colab": {
     "base_uri": "https://localhost:8080/"
    },
    "executionInfo": {
     "elapsed": 10,
     "status": "ok",
     "timestamp": 1722850128583,
     "user": {
      "displayName": "Anton Lukas",
      "userId": "17004432995420014713"
     },
     "user_tz": -120
    },
    "id": "mSaR7g00Wt_6",
    "outputId": "d97ddd2b-86b4-411e-ae30-d3b945878465"
   },
   "outputs": [],
   "source": [
    "# Calculate the distance between borehole a and borehole b\n",
    "distance_between = borehole_a.distance(borehole_b, align=False)\n",
    "# Print the calculated distance\n",
    "print(f\"Distance between {borehole_name_a} and {borehole_name_b}: \")\n",
    "print(f\"{round(float(distance_between.iloc[0]), 2)} m\")"
   ]
  },
  {
   "cell_type": "markdown",
   "metadata": {
    "id": "thqPzuB6Wt_6"
   },
   "source": [
    "Assume we want to clip these boreholes so that only those boreholes that occur within our study area remain. First, we need to import the boundary with which to clip our boreholes:"
   ]
  },
  {
   "cell_type": "code",
   "execution_count": null,
   "metadata": {
    "ExecuteTime": {
     "end_time": "2024-07-24T20:34:28.105584Z",
     "start_time": "2024-07-24T20:34:28.085406Z"
    },
    "colab": {
     "base_uri": "https://localhost:8080/",
     "height": 81
    },
    "executionInfo": {
     "elapsed": 8,
     "status": "ok",
     "timestamp": 1722850128583,
     "user": {
      "displayName": "Anton Lukas",
      "userId": "17004432995420014713"
     },
     "user_tz": -120
    },
    "id": "2sdM6D8CWt_6",
    "outputId": "34a8a81b-eeff-475e-a196-b9fb62a869ed"
   },
   "outputs": [],
   "source": [
    "# Import our boundary polygon\n",
    "cts_boundary = './data/GIS/CTS_Boundary.shp'\n",
    "df_cts_boundary = gpd.read_file(cts_boundary)\n",
    "# Take a look at the file\n",
    "df_cts_boundary.head()"
   ]
  },
  {
   "cell_type": "code",
   "execution_count": null,
   "metadata": {
    "ExecuteTime": {
     "end_time": "2024-07-24T20:34:28.115180Z",
     "start_time": "2024-07-24T20:34:28.105584Z"
    },
    "colab": {
     "base_uri": "https://localhost:8080/"
    },
    "executionInfo": {
     "elapsed": 8,
     "status": "ok",
     "timestamp": 1722850128583,
     "user": {
      "displayName": "Anton Lukas",
      "userId": "17004432995420014713"
     },
     "user_tz": -120
    },
    "id": "YJSJD0hHWt_6",
    "outputId": "1ef6b91a-a8e7-418a-8476-6fe8be2f8a20"
   },
   "outputs": [],
   "source": [
    "# We need to make sure the two files are in the same projected CRS\n",
    "# Convert to 3395 World Mercator\n",
    "df_cts_boundary = df_cts_boundary.to_crs(3395)\n",
    "df_cts_boundary.crs"
   ]
  },
  {
   "cell_type": "code",
   "execution_count": null,
   "metadata": {
    "ExecuteTime": {
     "end_time": "2024-07-24T20:34:28.148960Z",
     "start_time": "2024-07-24T20:34:28.115180Z"
    },
    "colab": {
     "base_uri": "https://localhost:8080/",
     "height": 1000
    },
    "executionInfo": {
     "elapsed": 7,
     "status": "ok",
     "timestamp": 1722850128583,
     "user": {
      "displayName": "Anton Lukas",
      "userId": "17004432995420014713"
     },
     "user_tz": -120
    },
    "id": "7zK-DccFWt_7",
    "outputId": "7f4e8a6d-6a54-455b-fc29-4bbf8c23c025"
   },
   "outputs": [],
   "source": [
    "# Take a look at the boundary, with Google satelite images as the base map.\n",
    "df_cts_boundary.explore(tiles='https://mt1.google.com/vt/lyrs=s&x={x}&y={y}&z={z}',\n",
    "                          attr='Google Earth')"
   ]
  },
  {
   "cell_type": "markdown",
   "metadata": {},
   "source": [
    "This cell inspects key geometric properties of the imported polygon layer.\n",
    "\n",
    "Geometric Attributes Calculated:\n",
    "\n",
    "- .area Calculates the polygon’s area using the coordinate reference system’s units (typically square meters if projected). This gives a quantitative sense of the model domain’s size.\n",
    "\n",
    "- .centroid Returns the geometric center of the polygon as a Point object. This is often used for labeling, snapping, or referencing the polygon’s central location.\n",
    "\n",
    "- .boundary Extracts the polygon’s exterior boundary as a LineString, useful for plotting outlines or for clipping/intersecting with other layers.\n",
    "\n",
    "Always double-check that your boundary is in the right projection and has the expected area/shape before using it as a mask, domain, or buffer."
   ]
  },
  {
   "cell_type": "code",
   "execution_count": null,
   "metadata": {
    "ExecuteTime": {
     "end_time": "2024-07-24T20:34:28.152904Z",
     "start_time": "2024-07-24T20:34:28.148960Z"
    },
    "colab": {
     "base_uri": "https://localhost:8080/"
    },
    "executionInfo": {
     "elapsed": 6,
     "status": "ok",
     "timestamp": 1722850128583,
     "user": {
      "displayName": "Anton Lukas",
      "userId": "17004432995420014713"
     },
     "user_tz": -120
    },
    "id": "EcEJSIFvWt_7",
    "outputId": "1faf9829-bab0-41c2-9bbb-021dc1055440"
   },
   "outputs": [],
   "source": [
    "# Let us calculate some metrics of our polygon\n",
    "print(f\"Model Boundary Polygon:\\nArea: {df_cts_boundary.area}\")\n",
    "print(f\"Centroid: {df_cts_boundary.centroid}\")\n",
    "print(f\"Boundary: {df_cts_boundary.boundary}\")"
   ]
  },
  {
   "cell_type": "markdown",
   "metadata": {},
   "source": [
    "Now, we perform the spatial clip to limit the borehole dataset to only those points that fall within the defined model boundary polygon (df_cts_boundary). \n",
    "\n",
    "Operation Details of df_boreholes_Merc.clip(df_cts_boundary):\n",
    "\n",
    "- Calls the .clip() method from GeoPandas, which retains only the geometries in df_boreholes_Merc that intersect the model boundary polygon.\n",
    "\n",
    "- Returns a new GeoDataFrame, df_boreholes_cts, containing the clipped subset of boreholes.\n",
    "\n",
    "The coordinate systems must match (i.e., both datasets should be in the same projected CRS) for this to work correctly."
   ]
  },
  {
   "cell_type": "code",
   "execution_count": null,
   "metadata": {
    "ExecuteTime": {
     "end_time": "2024-07-24T20:34:28.688667Z",
     "start_time": "2024-07-24T20:34:28.152904Z"
    },
    "colab": {
     "base_uri": "https://localhost:8080/",
     "height": 1000
    },
    "executionInfo": {
     "elapsed": 5,
     "status": "ok",
     "timestamp": 1722850128583,
     "user": {
      "displayName": "Anton Lukas",
      "userId": "17004432995420014713"
     },
     "user_tz": -120
    },
    "id": "eLgTWJPxWt_7",
    "outputId": "984a9d74-2007-4fb7-c893-65f8be0d1e7f"
   },
   "outputs": [],
   "source": [
    "# In order to clip the boreholes we just evoke the clip command\n",
    "# on the boreholes and we pass the model boundary as the argument\n",
    "df_boreholes_cts = df_boreholes_Merc.clip(df_cts_boundary)\n",
    "# Let us display the results again\n",
    "df_boreholes_cts.explore(tiles='https://mt1.google.com/vt/lyrs=s&x={x}&y={y}&z={z}',\n",
    "                          attr='Google Earth')"
   ]
  },
  {
   "cell_type": "markdown",
   "metadata": {
    "id": "KyyAgFP8Wt_7"
   },
   "source": [
    "For our next magic trick, let's see what land use zones these boreholes are located on. First, we once again import the file containing the land use data:"
   ]
  },
  {
   "cell_type": "code",
   "execution_count": null,
   "metadata": {
    "colab": {
     "base_uri": "https://localhost:8080/",
     "height": 206
    },
    "executionInfo": {
     "elapsed": 881,
     "status": "ok",
     "timestamp": 1722850129459,
     "user": {
      "displayName": "Anton Lukas",
      "userId": "17004432995420014713"
     },
     "user_tz": -120
    },
    "id": "MbIFsuoyWt_7",
    "outputId": "e9519f87-55bb-44c7-a959-8c7da895ad97"
   },
   "outputs": [],
   "source": [
    "# Let us import the land use shapefile\n",
    "source_land_use = './data/GIS/CTS_LandUse.shp'\n",
    "df_land_use = gpd.read_file(source_land_use)\n",
    "# And preview the data\n",
    "df_land_use.head()"
   ]
  },
  {
   "cell_type": "code",
   "execution_count": null,
   "metadata": {
    "colab": {
     "base_uri": "https://localhost:8080/"
    },
    "executionInfo": {
     "elapsed": 7,
     "status": "ok",
     "timestamp": 1722850129459,
     "user": {
      "displayName": "Anton Lukas",
      "userId": "17004432995420014713"
     },
     "user_tz": -120
    },
    "id": "2x6wzHDDWt_7",
    "outputId": "dca445c6-5263-4c00-d43f-a8279b1a36bb"
   },
   "outputs": [],
   "source": [
    "# Spatial join will require all geometries to be in the same CRS\n",
    "df_land_use = df_land_use.to_crs(3395)\n",
    "df_land_use.crs"
   ]
  },
  {
   "cell_type": "code",
   "execution_count": null,
   "metadata": {
    "colab": {
     "base_uri": "https://localhost:8080/",
     "height": 1000
    },
    "executionInfo": {
     "elapsed": 6,
     "status": "ok",
     "timestamp": 1722850129459,
     "user": {
      "displayName": "Anton Lukas",
      "userId": "17004432995420014713"
     },
     "user_tz": -120
    },
    "id": "v-sfKVyZWt_8",
    "outputId": "2b50b48b-424c-4d46-b023-49f19bcd572f"
   },
   "outputs": [],
   "source": [
    "# We can also overload the explore method to visualize geospatial data\n",
    "df_land_use.explore(tiles='https://mt1.google.com/vt/lyrs=s&x={x}&y={y}&z={z}',\n",
    "                    attr='Google Earth',\n",
    "                    column=\"LandUseTyp\",\n",
    "                    cmap=\"rainbow\")"
   ]
  },
  {
   "cell_type": "markdown",
   "metadata": {},
   "source": [
    "This cell performs a spatial join that assigns land use classifications to each borehole based on its location within polygon zones.\n",
    "\n",
    "What are we using:\n",
    "\n",
    "- Left Table: df_boreholes_cts contains the clipped boreholes (points).\n",
    "\n",
    "- Right Table: df_land_use[['LandUseTyp', 'geometry']] contains land use zones as polygons, with just the relevant attributes selected.\n",
    "\n",
    "Join Operation:\n",
    "\n",
    "- how=\"left\" ensures that every borehole is retained in the result—even if it doesn’t intersect a land use polygon.\n",
    "\n",
    "- predicate=\"within\" specifies that a borehole must fall inside a polygon for the join to succeed.\n",
    "\n",
    "- Result: The resulting df_boreholes_land_use includes a new LandUseTyp column describing the land use zone for each borehole.\n",
    "\n",
    "Why do we include geometry in the selected columns? \n",
    "\n",
    "- GeoPandas requires the geometry column to be present in both dataframes during spatial joins to execute geometry-based predicates like \"within\" or \"intersects\"."
   ]
  },
  {
   "cell_type": "code",
   "execution_count": null,
   "metadata": {
    "colab": {
     "base_uri": "https://localhost:8080/",
     "height": 206
    },
    "executionInfo": {
     "elapsed": 5,
     "status": "ok",
     "timestamp": 1722850129459,
     "user": {
      "displayName": "Anton Lukas",
      "userId": "17004432995420014713"
     },
     "user_tz": -120
    },
    "id": "4jhcwh-AWt_8",
    "outputId": "1825c025-ecc6-4cc5-88cb-cd5a1d3ee036"
   },
   "outputs": [],
   "source": [
    "# Perform the spatial join, notice the overloads specifying how the operation is executed\n",
    "# Geometry should always be included as a selected column when performing a spatial join\n",
    "df_boreholes_land_use = df_boreholes_cts.sjoin(df_land_use[['LandUseTyp', 'geometry']],\n",
    "                                                   how=\"left\",\n",
    "                                                   predicate=\"within\")\n",
    "# Preview the table to confirm the spatial join\n",
    "df_boreholes_land_use.head()"
   ]
  },
  {
   "cell_type": "code",
   "execution_count": null,
   "metadata": {
    "colab": {
     "base_uri": "https://localhost:8080/",
     "height": 813
    },
    "executionInfo": {
     "elapsed": 1027,
     "status": "ok",
     "timestamp": 1722850130481,
     "user": {
      "displayName": "Anton Lukas",
      "userId": "17004432995420014713"
     },
     "user_tz": -120
    },
    "id": "swGFve7zWt_8",
    "outputId": "bc6f1258-c3a6-41d5-95a4-7405dc6eeda0"
   },
   "outputs": [],
   "source": [
    "# Let us plot the results\n",
    "fig, ax = plt.subplots(figsize=(10,10))\n",
    "# Give the figure a title\n",
    "ax.set_title('Boreholes by Land Use')\n",
    "# Classify the points by Land Use Type column\n",
    "df_land_use.plot(ax=ax, column='LandUseTyp', cmap='Pastel1')\n",
    "# Plot the land use with the Type column\n",
    "df_boreholes_land_use.plot(ax=ax,\n",
    "                           column='LandUseTyp',\n",
    "                           cmap='rainbow',\n",
    "                           missing_kwds={\n",
    "                               \"color\": \"black\",\n",
    "                               \"label\": \"Outside Land Use Zones\"\n",
    "                           },\n",
    "                           legend=True)"
   ]
  },
  {
   "cell_type": "markdown",
   "metadata": {
    "id": "06-Q7UTRWt_8"
   },
   "source": [
    "Next, let's buffer the boreholes. The cell below describes how to generate buffer polygons around each borehole point, representing a uniform spatial zone (e.g., for zone-of-influence analysis, environmental compliance, or proximity checks).\n",
    "\n",
    "Step-by-step breakdown:\n",
    "\n",
    "- Copy the Source Layer:\n",
    "\n",
    "    - df_boreholes_cts.copy() ensures that the original clipped borehole layer remains unchanged.\n",
    "\n",
    "    - The copy is stored in df_boreholes_buffered.\n",
    "\n",
    "- Generate Buffers:\n",
    "\n",
    "    - The .buffer(distance=5) method creates a 5-meter circular buffer around each borehole’s geometry.\n",
    "\n",
    "    - The new geometries overwrite the geometry column in the copied GeoDataFrame.\n",
    "\n",
    "- Plot the Buffers:\n",
    "\n",
    "    - plot(figsize=(5,5)) visualizes the result—each borehole now displayed as a small polygon (rather than a point)."
   ]
  },
  {
   "cell_type": "code",
   "execution_count": null,
   "metadata": {
    "colab": {
     "base_uri": "https://localhost:8080/",
     "height": 424
    },
    "executionInfo": {
     "elapsed": 1145,
     "status": "ok",
     "timestamp": 1722850131621,
     "user": {
      "displayName": "Anton Lukas",
      "userId": "17004432995420014713"
     },
     "user_tz": -120
    },
    "id": "LHSAgNdVWt_8",
    "outputId": "b90350f1-a0ea-4ae4-b742-8f038d12b30e"
   },
   "outputs": [],
   "source": [
    "# Create a copy of our clipped boreholes layer\n",
    "df_boreholes_buffered = df_boreholes_cts.copy()\n",
    "# Buffer the boreholes, and assign the new geometry to the copied layer\n",
    "df_boreholes_buffered['geometry'] = df_boreholes_cts.geometry.buffer(distance=5)\n",
    "# Visualize the results\n",
    "df_boreholes_buffered.plot(figsize=(5,5))"
   ]
  },
  {
   "cell_type": "markdown",
   "metadata": {
    "id": "BNeMDJxUWt_8"
   },
   "source": [
    "This next cell combines all individual land use polygons into a single unified geometry using GeoPandas’ geometry aggregation tool. This is especially useful when simplifying spatial layers or defining a total study area for masking, buffering, or overlay analysis.\n",
    "\n",
    "Key Steps:\n",
    "\n",
    "- Merge Geometries:\n",
    "\n",
    "    - df_land_use['geometry'].unary_union merges all land use polygons into one seamless MultiPolygon or Polygon, removing internal boundaries.\n",
    "\n",
    "    - This operation uses the Shapely engine under the hood, ensuring clean and topologically valid output.\n",
    "\n",
    "- Create Attribute Table:\n",
    "\n",
    "    - Constructs a simple dictionary merged_data representing the new merged feature with basic metadata (ID, Name, geometry).\n",
    "\n",
    "- Convert to GeoDataFrame:\n",
    "\n",
    "    - Wraps the new record in a GeoDataFrame, explicitly setting the same CRS (EPSG:3857) to ensure alignment with existing spatial layers.\n",
    "\n",
    "- Plot:\n",
    "\n",
    "    - Displays the result using plot(), giving a quick visual confirmation of the merged boundary."
   ]
  },
  {
   "cell_type": "code",
   "execution_count": null,
   "metadata": {
    "colab": {
     "base_uri": "https://localhost:8080/",
     "height": 805
    },
    "executionInfo": {
     "elapsed": 6,
     "status": "ok",
     "timestamp": 1722850131622,
     "user": {
      "displayName": "Anton Lukas",
      "userId": "17004432995420014713"
     },
     "user_tz": -120
    },
    "id": "0M-nto8hWt_8",
    "outputId": "4eda501a-ba12-4633-8971-8bebc0906fc9"
   },
   "outputs": [],
   "source": [
    "# Merge vectors\n",
    "poly_land_use_merged = df_land_use['geometry'].unary_union\n",
    "# Take the merged polygon and create a new dataframe with it\n",
    "merged_data = {'ID': ['0'],\n",
    "               'Name': [\"Land use merged\"],\n",
    "               'geometry': [poly_land_use_merged]}\n",
    "df_land_use_merged = pd.DataFrame(merged_data)\n",
    "# The DataFrame is converted to a geopandas DataFrame.\n",
    "gdf_land_use_merged = gpd.GeoDataFrame(df_land_use_merged, crs='epsg:3857')\n",
    "gdf_land_use_merged.plot(figsize=(10,10))"
   ]
  },
  {
   "cell_type": "markdown",
   "metadata": {},
   "source": [
    "Next, let's take a look at working with raster data using rasterio. A quick breakdown:\n",
    "\n",
    "- src.read(1) grabs the first band — common for DEMs or intensity rasters.\n",
    "\n",
    "- cmap='gray' renders it as a grayscale image, but you can also try colormaps like 'terrain', 'viridis', or 'plasma'.\n",
    "\n",
    "- If it’s a multiband raster (e.g. RGB), you can read all bands and display them as an image using 'np.dstack'."
   ]
  },
  {
   "cell_type": "code",
   "execution_count": null,
   "metadata": {},
   "outputs": [],
   "source": [
    "# Define the path to your raster file\n",
    "raster_path = './data/GIS/output_AW3D30.tif'\n",
    "\n",
    "# Open the raster using rasterio\n",
    "with rasterio.open(raster_path) as src:\n",
    "    raster_data = src.read(1)  # Read the first band\n",
    "    raster_crs = src.crs\n",
    "    raster_bounds = src.bounds\n",
    "    # Mask NoData values (optional but common)\n",
    "    nodata = src.nodata\n",
    "    masked_raster = np.ma.masked_equal(raster_data, nodata)\n",
    "\n",
    "# Display the raster\n",
    "plt.figure(figsize=(10, 10))\n",
    "plt.imshow(raster_data, cmap='gray')\n",
    "plt.title(\"Raster Visualization\")\n",
    "plt.axis('off')\n",
    "plt.show()"
   ]
  },
  {
   "cell_type": "markdown",
   "metadata": {},
   "source": [
    "Luckily, we had a good raster and thus masking the NA values (invalid or missing data) was not necessary, but we will visualise it regardless:"
   ]
  },
  {
   "cell_type": "code",
   "execution_count": null,
   "metadata": {},
   "outputs": [],
   "source": [
    "# Display the masked raster\n",
    "plt.figure(figsize=(10, 10))\n",
    "plt.imshow(masked_raster, cmap='gray')\n",
    "plt.title(\"Masked Raster Visualization\")\n",
    "plt.axis('off')\n",
    "plt.show()"
   ]
  },
  {
   "cell_type": "markdown",
   "metadata": {},
   "source": [
    "When working with spatial grids — such as digital elevation models, rasters, or groundwater model arrays — we often need to perform large-scale mathematical operations across thousands (or millions) of grid cells. This is where NumPy becomes a game changer.\n",
    "\n",
    "What Makes NumPy So Powerful?\n",
    "\n",
    "- Vectorized Operations: Unlike standard Python loops, NumPy allows you to apply operations across entire arrays at once — like adding two grids or computing slopes.\n",
    "\n",
    "- Memory Efficiency: NumPy uses compact data structures that keep memory usage low, which matters when working with high-resolution rasters or 3D model arrays. Numpy is faster than working with raw Python code because it is implemented in the C programming language.\n",
    "\n",
    "- Broadcasting: You can apply operations across arrays of different shapes — for example, scaling each grid layer differently — without writing extra logic.\n",
    "\n",
    "Why It’s Perfect for Spatial Modeling\n",
    "\n",
    "- Whether you’re:\n",
    "\n",
    "    - Applying mathematical transforms (e.g. normalizing a raster)\n",
    "\n",
    "    - Creating masks (e.g. cells above a threshold)\n",
    "\n",
    "    - Computing differences across time steps or layers\n",
    "\n",
    "    - Extracting values for zonal stats\n",
    "\n",
    "- ...NumPy allows these to happen quickly, reproducibly, and expressively."
   ]
  },
  {
   "cell_type": "markdown",
   "metadata": {},
   "source": [
    "Next, we explore how to manipulate raster data numerically after loading it with rasterio. Since raster files are essentially gridded datasets, we can apply standard NumPy operations for analysis and transformation.\n",
    "\n",
    "# Example Calculations:\n",
    "\n",
    "Scaling:\n",
    "\n",
    "- Multiply the raster by 100 to convert values (e.g., from meters to centimeters).\n",
    "\n",
    "Thresholding:\n",
    "\n",
    "- Create a binary mask where values greater than 1000 become 1 and others become 0. This is useful for classification or visibility filtering.\n",
    "\n",
    "Slope Approximation:\n",
    "\n",
    "- Use np.gradient() to estimate local elevation change (or other raster gradients) across cells.\n",
    "\n",
    "- Combine gradients using the Pythagorean formula to get a simple slope-like surface.\n",
    "\n",
    "Normalization:\n",
    "\n",
    "- Rescale values between 0 and 1 using min–max normalization — a standard preprocessing step for many machine learning workflows."
   ]
  },
  {
   "cell_type": "code",
   "execution_count": null,
   "metadata": {},
   "outputs": [],
   "source": [
    "# 1. Scale the raster by a factor (e.g., convert elevation from meters to centimeters)\n",
    "scaled_raster = masked_raster * 100\n",
    "\n",
    "# 2. Apply thresholding (e.g., highlight elevation > 1000 m)\n",
    "thresholded_raster = np.where(masked_raster > 1000, 1, 0)\n",
    "\n",
    "# 3. Calculate slope-like differences between adjacent cells\n",
    "gradient_y, gradient_x = np.gradient(masked_raster.filled(0))\n",
    "slope_like = np.sqrt(gradient_x**2 + gradient_y**2)\n",
    "\n",
    "# 4. Normalize raster values (e.g., 0 to 1)\n",
    "raster_min = masked_raster.min()\n",
    "raster_max = masked_raster.max()\n",
    "normalized_raster = (masked_raster - raster_min) / (raster_max - raster_min)\n",
    "\n",
    "# Plot the normalized results\n",
    "plt.figure(figsize=(8, 8))\n",
    "plt.imshow(normalized_raster, cmap='viridis')\n",
    "plt.title(\"Normalized Raster\")\n",
    "plt.axis('off')\n",
    "plt.colorbar(label='Normalized Value')\n",
    "plt.show()"
   ]
  },
  {
   "cell_type": "markdown",
   "metadata": {},
   "source": [
    "# Exercise: \n",
    "\n",
    "Play with these functions to make sure you understand them and ask if you have any questions. I might not know the answers out of my head, but we can explore how we should go about researching and implementing new code."
   ]
  }
 ],
 "metadata": {
  "celltoolbar": "Slideshow",
  "colab": {
   "provenance": [
    {
     "file_id": "1USzx12DsuJ3Nxs9DBex_xeuXoCrcI9tG",
     "timestamp": 1722841202964
    }
   ]
  },
  "kernelspec": {
   "display_name": ".venv",
   "language": "python",
   "name": "python3"
  },
  "language_info": {
   "codemirror_mode": {
    "name": "ipython",
    "version": 3
   },
   "file_extension": ".py",
   "mimetype": "text/x-python",
   "name": "python",
   "nbconvert_exporter": "python",
   "pygments_lexer": "ipython3",
   "version": "3.12.2"
  }
 },
 "nbformat": 4,
 "nbformat_minor": 0
}

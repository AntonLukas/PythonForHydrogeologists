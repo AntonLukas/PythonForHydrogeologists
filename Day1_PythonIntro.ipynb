{
 "cells": [
  {
   "cell_type": "markdown",
   "id": "cdf1aed3",
   "metadata": {},
   "source": [
    "# An Introduction to Python\n",
    "Syntax, Variables, Types and Functions"
   ]
  },
  {
   "cell_type": "markdown",
   "id": "2739ced4",
   "metadata": {},
   "source": [
    "Python has a very simple syntax which we will explore in this notebook. Let's first start with basic arithmetic:"
   ]
  },
  {
   "cell_type": "code",
   "execution_count": 1,
   "id": "9975af90",
   "metadata": {},
   "outputs": [
    {
     "data": {
      "text/plain": [
       "6"
      ]
     },
     "execution_count": 1,
     "metadata": {},
     "output_type": "execute_result"
    }
   ],
   "source": [
    "# We can comment our code like this by using a '#'\n",
    "# Commented lines won't be executed by the interpreter\n",
    "# A basic summation\n",
    "1 + 5"
   ]
  },
  {
   "cell_type": "markdown",
   "id": "5b845b1f",
   "metadata": {},
   "source": [
    "When running the cell we get the answer to the equation. We can use various operators in larger equation:"
   ]
  },
  {
   "cell_type": "code",
   "execution_count": 2,
   "id": "90c7f87f",
   "metadata": {},
   "outputs": [
    {
     "data": {
      "text/plain": [
       "10.0"
      ]
     },
     "execution_count": 2,
     "metadata": {},
     "output_type": "execute_result"
    }
   ],
   "source": [
    "# Combining addition, subtraction, multiplication and dividing\n",
    "((12 + 3) * 3 - 5) / 4"
   ]
  },
  {
   "cell_type": "markdown",
   "id": "fbcb6f4a",
   "metadata": {},
   "source": [
    "Sometimes you want to use the result from one calculation in another calculation.\n",
    "We do this by defining variables that can store values:"
   ]
  },
  {
   "cell_type": "code",
   "execution_count": 3,
   "id": "ba6be62b",
   "metadata": {},
   "outputs": [
    {
     "data": {
      "text/plain": [
       "30"
      ]
     },
     "execution_count": 3,
     "metadata": {},
     "output_type": "execute_result"
    }
   ],
   "source": [
    "# Define some variables\n",
    "x = 5\n",
    "y = 6\n",
    "# Multiply the two variables\n",
    "x * y"
   ]
  },
  {
   "cell_type": "markdown",
   "id": "f9889862",
   "metadata": {},
   "source": [
    "We can also define variables with calculations. If we want to know what the value of a variable is then we need only to “call” (write the name) of the variable and it will be outputted."
   ]
  },
  {
   "cell_type": "code",
   "execution_count": 4,
   "id": "26cf50db",
   "metadata": {},
   "outputs": [
    {
     "data": {
      "text/plain": [
       "30.0"
      ]
     },
     "execution_count": 4,
     "metadata": {},
     "output_type": "execute_result"
    }
   ],
   "source": [
    "# Define some variables\n",
    "x = 10 / 2\n",
    "y = 3 * 5 - 9\n",
    "# Create a new variable by multiplying the previously defined variables\n",
    "z = x * y\n",
    "# Display the value of z\n",
    "z"
   ]
  },
  {
   "cell_type": "markdown",
   "id": "909f15d8",
   "metadata": {},
   "source": [
    "You can assign to a variable as many times as you want. You can also use that same variable if it already has a value associated with it.\n",
    "- Note that the variable will only remember the last value assigned to it."
   ]
  },
  {
   "cell_type": "code",
   "execution_count": 5,
   "id": "bdf3ae15",
   "metadata": {},
   "outputs": [
    {
     "data": {
      "text/plain": [
       "12"
      ]
     },
     "execution_count": 5,
     "metadata": {},
     "output_type": "execute_result"
    }
   ],
   "source": [
    "# Define variable\n",
    "my_number = 2\n",
    "my_number = 4\n",
    "my_number = my_number * 3\n",
    "my_number"
   ]
  },
  {
   "cell_type": "markdown",
   "id": "761c03f6",
   "metadata": {},
   "source": [
    "- Note that the name of a variable may not contain spaces. The following is wrong and will raise a syntax error:"
   ]
  },
  {
   "cell_type": "code",
   "execution_count": 6,
   "id": "0b896f71",
   "metadata": {},
   "outputs": [
    {
     "ename": "SyntaxError",
     "evalue": "invalid syntax (1421049619.py, line 1)",
     "output_type": "error",
     "traceback": [
      "  \u001b[36mCell\u001b[39m\u001b[36m \u001b[39m\u001b[32mIn[6]\u001b[39m\u001b[32m, line 1\u001b[39m\n\u001b[31m    \u001b[39m\u001b[31mmy number = 10\u001b[39m\n       ^\n\u001b[31mSyntaxError\u001b[39m\u001b[31m:\u001b[39m invalid syntax\n"
     ]
    }
   ],
   "source": [
    "my number = 10"
   ]
  },
  {
   "cell_type": "markdown",
   "id": "10c2a427",
   "metadata": {},
   "source": [
    "When Python encounters an error the script will stop executing and an error will be raised. Ultimately, errors are the enemy, and must not be tolerated. We will discuss error handling in more detail later in the course."
   ]
  },
  {
   "cell_type": "markdown",
   "id": "e5047262",
   "metadata": {},
   "source": [
    "If you want to use multiple words to define a variable name, then use:\n",
    "- Snake case e.g. my_variable\n",
    "- Pascal case e.g. MyVariable\n"
   ]
  },
  {
   "cell_type": "markdown",
   "id": "981fa4be",
   "metadata": {},
   "source": [
    "When displaying the value of variables we can also use the print function. The print function will output whatever value is given to it:"
   ]
  },
  {
   "cell_type": "code",
   "execution_count": 7,
   "id": "6ae3cbde",
   "metadata": {},
   "outputs": [
    {
     "name": "stdout",
     "output_type": "stream",
     "text": [
      "2\n"
     ]
    }
   ],
   "source": [
    "# Define variable\n",
    "my_number = 2\n",
    "# Print the variable\n",
    "print(my_number)"
   ]
  },
  {
   "cell_type": "markdown",
   "id": "34dc0a82",
   "metadata": {},
   "source": [
    "You might wonder why we would use this when we can just call the variable by itself. That is because this allows us more control over the output, for example:"
   ]
  },
  {
   "cell_type": "code",
   "execution_count": 8,
   "id": "ffa6de2e",
   "metadata": {},
   "outputs": [
    {
     "name": "stdout",
     "output_type": "stream",
     "text": [
      "2\n",
      "8\n",
      "50\n"
     ]
    }
   ],
   "source": [
    "# Define variable\n",
    "my_number = 2\n",
    "# Print the variable\n",
    "print(my_number)\n",
    "# Print the variable with an extra operation\n",
    "print(my_number * 4)\n",
    "# We can also display values without using a variable\n",
    "print(5 * 10)"
   ]
  },
  {
   "cell_type": "markdown",
   "id": "d3a7b8c9",
   "metadata": {},
   "source": [
    "# Exercise 1: Calculate the discharge for a system using Darcy's Equation\n",
    "- Define variables for the data given below.\n",
    "- Calculate the hydraulic gradient: I = (H2 - H1) / Length\n",
    "- Calculate the discharge: Q = -K * A * I\n",
    "- Print the calculated discharge.\n",
    "\n",
    "Input:\n",
    "- H1: 12 m\n",
    "- H2: 9 m\n",
    "- Length: 15 m\n",
    "- A: 200 m<sup>2</sup>\n",
    "- K: 0.01 m/d"
   ]
  },
  {
   "cell_type": "code",
   "execution_count": 9,
   "id": "913b319f",
   "metadata": {},
   "outputs": [],
   "source": [
    "# Provide your answer in this block"
   ]
  },
  {
   "cell_type": "markdown",
   "id": "f7806ec5",
   "metadata": {},
   "source": [
    "Now this is great and all but there is more to life than just numbers, and this is where we start to investigate:\n",
    "\n",
    "# Types\n",
    "\n",
    "Variables can consist of various types. The type describes the data stored in the variable and how we can interact with the variable. Some common types include:\n",
    "- Integer (-n, ..., -2, -1, 0, 1, 2, …, n)\n",
    "- Float (1.0, 3.14, -0.1232 …)\n",
    "- String (“This is text”)\n",
    "- And many more..."
   ]
  },
  {
   "cell_type": "code",
   "execution_count": 10,
   "id": "09963d75",
   "metadata": {},
   "outputs": [
    {
     "name": "stdout",
     "output_type": "stream",
     "text": [
      "<class 'int'>\n",
      "<class 'int'>\n",
      "<class 'int'>\n"
     ]
    }
   ],
   "source": [
    "# We can also use comments after code as below:\n",
    "x = 1  # Integers consist of positive whole numbers\n",
    "y = -2  # As well as negative numbers without floating points\n",
    "z = 0  # And includes zero\n",
    "# We can check the type of a variable by using the type function\n",
    "print(type(x))\n",
    "print(type(y))\n",
    "print(type(z))"
   ]
  },
  {
   "cell_type": "code",
   "execution_count": 11,
   "id": "5255cf5a",
   "metadata": {},
   "outputs": [
    {
     "name": "stdout",
     "output_type": "stream",
     "text": [
      "<class 'float'>\n",
      "<class 'float'>\n",
      "<class 'float'>\n"
     ]
    }
   ],
   "source": [
    "# Floats consist of any number with floating points\n",
    "x = 1.0\n",
    "y = 0.314\n",
    "z = -12.55\n",
    "# Again we check the type of variables by using the type function\n",
    "print(type(x))\n",
    "print(type(y))\n",
    "print(type(z))"
   ]
  },
  {
   "cell_type": "code",
   "execution_count": 12,
   "id": "9a22ff54",
   "metadata": {},
   "outputs": [
    {
     "name": "stdout",
     "output_type": "stream",
     "text": [
      "<class 'str'>\n",
      "<class 'str'>\n"
     ]
    }
   ],
   "source": [
    "# Next up are strings, which is how we handle text\n",
    "text_one = \"Hello\"\n",
    "text_two = 'Hydrogeologists!'\n",
    "# Checking the type again\n",
    "print(type(text_one))\n",
    "print(type(text_two))"
   ]
  },
  {
   "cell_type": "markdown",
   "id": "9b838c6d",
   "metadata": {},
   "source": [
    "Strings can be concatenated by means of addition:"
   ]
  },
  {
   "cell_type": "code",
   "execution_count": 13,
   "id": "c270c74a",
   "metadata": {},
   "outputs": [
    {
     "name": "stdout",
     "output_type": "stream",
     "text": [
      "Hello Hydrogeologists!\n"
     ]
    }
   ],
   "source": [
    "text_three = text_one + ' ' + text_two\n",
    "print(text_three)"
   ]
  },
  {
   "cell_type": "markdown",
   "id": "90549031",
   "metadata": {},
   "source": [
    "Why does types matter? Let us go through a few examples:"
   ]
  },
  {
   "cell_type": "code",
   "execution_count": 14,
   "id": "065799de",
   "metadata": {},
   "outputs": [
    {
     "ename": "TypeError",
     "evalue": "unsupported operand type(s) for /: 'int' and 'str'",
     "output_type": "error",
     "traceback": [
      "\u001b[31m---------------------------------------------------------------------------\u001b[39m",
      "\u001b[31mTypeError\u001b[39m                                 Traceback (most recent call last)",
      "\u001b[36mCell\u001b[39m\u001b[36m \u001b[39m\u001b[32mIn[14]\u001b[39m\u001b[32m, line 5\u001b[39m\n\u001b[32m      3\u001b[39m y = \u001b[33m\"\u001b[39m\u001b[33m2\u001b[39m\u001b[33m\"\u001b[39m\n\u001b[32m      4\u001b[39m \u001b[38;5;66;03m# Print the result of a division\u001b[39;00m\n\u001b[32m----> \u001b[39m\u001b[32m5\u001b[39m \u001b[38;5;28mprint\u001b[39m(\u001b[43mx\u001b[49m\u001b[43m/\u001b[49m\u001b[43my\u001b[49m)\n",
      "\u001b[31mTypeError\u001b[39m: unsupported operand type(s) for /: 'int' and 'str'"
     ]
    }
   ],
   "source": [
    "# Define some variables\n",
    "x = 10\n",
    "y = \"2\"\n",
    "# Print the result of a division\n",
    "print(x/y)"
   ]
  },
  {
   "cell_type": "markdown",
   "id": "1440d920",
   "metadata": {},
   "source": [
    "When we run the above cell we get a type error. You cannot use division on a string. But you won't always get an error, consider:"
   ]
  },
  {
   "cell_type": "code",
   "execution_count": 15,
   "id": "89962dcc",
   "metadata": {},
   "outputs": [
    {
     "name": "stdout",
     "output_type": "stream",
     "text": [
      "2222222222\n"
     ]
    }
   ],
   "source": [
    "# Define some variables\n",
    "x = 10\n",
    "y = \"2\"\n",
    "# Print the result of a multiplication\n",
    "print(x * y)"
   ]
  },
  {
   "cell_type": "markdown",
   "id": "70809542",
   "metadata": {},
   "source": [
    "Despite not giving us an error, in most cases that will not be the result you want. Thus, when you use external input (for example: user entering a value in a textbox) we convert or cast the value to an integer or float:"
   ]
  },
  {
   "cell_type": "code",
   "execution_count": 16,
   "id": "b9faa0c7",
   "metadata": {},
   "outputs": [
    {
     "name": "stdout",
     "output_type": "stream",
     "text": [
      "21.08\n"
     ]
    }
   ],
   "source": [
    "# Define some variables\n",
    "x = \"10.54\"\n",
    "y = \"2\"\n",
    "# Print the result of a multiplication\n",
    "print(float(x) * int(y))"
   ]
  },
  {
   "cell_type": "markdown",
   "id": "9be51b8d",
   "metadata": {},
   "source": [
    "If you cast an int to a float or vice versa:\n",
    "- float to int: Will round down the number to an int.\n",
    "- int to float: Will add a floating point to the int."
   ]
  },
  {
   "cell_type": "code",
   "execution_count": 17,
   "id": "7cdfe334",
   "metadata": {},
   "outputs": [
    {
     "name": "stdout",
     "output_type": "stream",
     "text": [
      "5.0\n",
      "3\n",
      "3\n"
     ]
    }
   ],
   "source": [
    "# Define some variables\n",
    "our_int = 5\n",
    "our_float = 3.14\n",
    "our_second_float = 3.77\n",
    "# Print the result of a type cast\n",
    "print(float(our_int))\n",
    "print(int(our_float))\n",
    "print(int(our_second_float))"
   ]
  },
  {
   "cell_type": "markdown",
   "id": "f0d1f7a3",
   "metadata": {},
   "source": [
    "Declared variables in Python are dynamic and can change types. This is not the case with most programming languages."
   ]
  },
  {
   "cell_type": "code",
   "execution_count": 18,
   "id": "dc831682",
   "metadata": {},
   "outputs": [
    {
     "name": "stdout",
     "output_type": "stream",
     "text": [
      "X is a <class 'int'>\n",
      "X is a <class 'str'>\n"
     ]
    }
   ],
   "source": [
    "# Declare x as an integer with value 5\n",
    "x = 5\n",
    "print(\"X is a\", type(x))\n",
    "# Now let us reasign a string to x\n",
    "x = '5'\n",
    "print(\"X is a\", type(x))"
   ]
  },
  {
   "cell_type": "markdown",
   "id": "611f2f33",
   "metadata": {},
   "source": [
    "- Note how we combined the output in the print function above by seperating the string and variables with a comma."
   ]
  },
  {
   "cell_type": "markdown",
   "id": "903e8e3f",
   "metadata": {},
   "source": [
    "Additionally, you will see many types in your journey into Python. Some of the more common types you will encounter are:\n",
    "- bool: Also termed boolean values, it can either be True or False.\n",
    "- complex: Complex numbers with real and imaginary parts (e.g. 3 + 4j)\n",
    "\n",
    "Next we will look at data structures, which are types that are meant to contain more than one value. Starting with lists, which are an ordered array of values:"
   ]
  },
  {
   "cell_type": "code",
   "execution_count": 19,
   "id": "3e69390d",
   "metadata": {},
   "outputs": [
    {
     "name": "stdout",
     "output_type": "stream",
     "text": [
      "[0, 1, 2, 3]\n",
      "<class 'list'>\n"
     ]
    }
   ],
   "source": [
    "# Declare x as a list containing the values 0, 1, 2 and 3\n",
    "x = [0, 1, 2, 3]\n",
    "# Print the variable and its type\n",
    "print(x)\n",
    "print(type(x))"
   ]
  },
  {
   "cell_type": "markdown",
   "id": "1cf1ac31",
   "metadata": {},
   "source": [
    "Lists are very dynamic and can be interacted with in a few different ways:"
   ]
  },
  {
   "cell_type": "code",
   "execution_count": 20,
   "id": "87992a96",
   "metadata": {},
   "outputs": [
    {
     "name": "stdout",
     "output_type": "stream",
     "text": [
      "[5, 10]\n",
      "[5, 10, 15, 20]\n",
      "[5, 10, 20]\n"
     ]
    }
   ],
   "source": [
    "# Create an empty list\n",
    "x = []\n",
    "# Add two values to that list using the append method of the list\n",
    "x.append(5)\n",
    "x.append(10)\n",
    "print(x)\n",
    "# We can also add lists together\n",
    "y = [15, 20]\n",
    "z = x + y\n",
    "print(z)\n",
    "# We can also remove items from a list using the value and the remove method of the list\n",
    "z.remove(15)\n",
    "print(z)"
   ]
  },
  {
   "cell_type": "markdown",
   "id": "3940d829",
   "metadata": {},
   "source": [
    "A great feature of lists is that they can contain many types at the same time:"
   ]
  },
  {
   "cell_type": "code",
   "execution_count": 21,
   "id": "c04bd508",
   "metadata": {},
   "outputs": [
    {
     "name": "stdout",
     "output_type": "stream",
     "text": [
      "[3.14, 'Hello!', 20, [0, 1, 2.0]]\n",
      "2.0\n"
     ]
    }
   ],
   "source": [
    "# Create a list\n",
    "a_list = []\n",
    "# Append some values of various types\n",
    "a_list.append(3.14)\n",
    "a_list.append(\"Hello!\")\n",
    "a_list.append(20)\n",
    "a_list.append([0, 1, 2.0])  # We can even put lists in our lists\n",
    "# Print the list\n",
    "print(a_list)\n",
    "# If we want to access a value in a list which is also in a list we just index twice\n",
    "print(a_list[3][2])  # Since the second list is the fourth item in the first list"
   ]
  },
  {
   "cell_type": "markdown",
   "id": "e172e8bd",
   "metadata": {},
   "source": [
    "We can access individual values in a list by means of the index, it is important to note the following:\n",
    "- The index is always an integer.\n",
    "- The index begins at zero, and thus the index of the first element in the list is zero.\n",
    "- We can also use an index that counts from the end of the list by using negative indexes.\n",
    "- Negative indexes start at minus one, thus the last element in the list has an index of -1."
   ]
  },
  {
   "cell_type": "code",
   "execution_count": 22,
   "id": "41d9d5fe",
   "metadata": {},
   "outputs": [
    {
     "name": "stdout",
     "output_type": "stream",
     "text": [
      "3\n",
      "12\n",
      "1\n",
      "[3, 7, 2, 5, 1]\n"
     ]
    }
   ],
   "source": [
    "# Create a list\n",
    "x = [3, 7, 2, 5, 12, 1]\n",
    "# Print the first item in the list\n",
    "print(x[0])\n",
    "# Get the fifth item in the list\n",
    "fifth_item = x[4]\n",
    "print(fifth_item)\n",
    "# Print the last item in the list\n",
    "print(x[-1])\n",
    "# We can also remove items from a list using the index\n",
    "x.remove(x[-2])\n",
    "print(x)"
   ]
  },
  {
   "cell_type": "markdown",
   "id": "52f7973a",
   "metadata": {},
   "source": [
    "Tuples are like lists, but you create them by using parenthesis around the value instead of square brackets. Note that the content of a tuple cannot be changed after it has been created. The use-case for tuples is most commonly to return multiple results from a function (We will touch more on this later)."
   ]
  },
  {
   "cell_type": "code",
   "execution_count": 23,
   "id": "f1f86aaa",
   "metadata": {},
   "outputs": [
    {
     "name": "stdout",
     "output_type": "stream",
     "text": [
      "<class 'tuple'>\n",
      "(123, 2, 65, 10)\n",
      "65\n"
     ]
    },
    {
     "ename": "TypeError",
     "evalue": "'tuple' object does not support item assignment",
     "output_type": "error",
     "traceback": [
      "\u001b[31m---------------------------------------------------------------------------\u001b[39m",
      "\u001b[31mTypeError\u001b[39m                                 Traceback (most recent call last)",
      "\u001b[36mCell\u001b[39m\u001b[36m \u001b[39m\u001b[32mIn[23]\u001b[39m\u001b[32m, line 9\u001b[39m\n\u001b[32m      7\u001b[39m \u001b[38;5;28mprint\u001b[39m(a_tuple[\u001b[32m2\u001b[39m])\n\u001b[32m      8\u001b[39m \u001b[38;5;66;03m# Attempt to change a value, which will cause a Type Error\u001b[39;00m\n\u001b[32m----> \u001b[39m\u001b[32m9\u001b[39m \u001b[43ma_tuple\u001b[49m\u001b[43m[\u001b[49m\u001b[32;43m2\u001b[39;49m\u001b[43m]\u001b[49m = \u001b[32m5\u001b[39m\n",
      "\u001b[31mTypeError\u001b[39m: 'tuple' object does not support item assignment"
     ]
    }
   ],
   "source": [
    "# Define a tuple\n",
    "a_tuple = (123, 2, 65, 10)\n",
    "print(type(a_tuple))\n",
    "print(a_tuple)\n",
    "# Indexing works the same on tuples as with lists\n",
    "# Indexing always uses square brackets, no matter what type of collection you are working with\n",
    "print(a_tuple[2])\n",
    "# Attempt to change a value, which will cause a Type Error\n",
    "a_tuple[2] = 5"
   ]
  },
  {
   "cell_type": "markdown",
   "id": "d70dd503",
   "metadata": {},
   "source": [
    "Next up are dictionaries, which are our collections for key-value pairs. Dictionaries allows you to store values associated with a certain key. Let's take a look:"
   ]
  },
  {
   "cell_type": "code",
   "execution_count": 24,
   "id": "50bfcf6a",
   "metadata": {},
   "outputs": [
    {
     "name": "stdout",
     "output_type": "stream",
     "text": [
      "<class 'dict'>\n",
      "{'key': 'value', 'second_key': 12}\n",
      "value\n",
      "12\n"
     ]
    }
   ],
   "source": [
    "# We define a dictionary\n",
    "my_dict = {'key': 'value', 'second_key': 12}\n",
    "print(type(my_dict))\n",
    "print(my_dict)\n",
    "# Dictionaries make it possible to get values using a key rather than an index\n",
    "# Indexing via key works the same way as indexing by index with the square brackets convention.\n",
    "print(my_dict['key'])\n",
    "print(my_dict['second_key'])"
   ]
  },
  {
   "cell_type": "code",
   "execution_count": 25,
   "id": "2282b0e0",
   "metadata": {},
   "outputs": [
    {
     "name": "stdout",
     "output_type": "stream",
     "text": [
      "{'key': 'value', 'second_key': 12, 'new_key': 'new_value'}\n"
     ]
    }
   ],
   "source": [
    "# We can add new items to a dictionary as follows\n",
    "my_dict['new_key'] = 'new_value'\n",
    "print(my_dict)"
   ]
  },
  {
   "cell_type": "markdown",
   "id": "42f06aef",
   "metadata": {},
   "source": [
    "The keys of dictionaries can be many types. Including strings, integers and float.\n",
    "- Tuples can also be used as keys for dictionaries, but not lists."
   ]
  },
  {
   "cell_type": "code",
   "execution_count": 26,
   "id": "fda2e956",
   "metadata": {},
   "outputs": [
    {
     "name": "stdout",
     "output_type": "stream",
     "text": [
      "{'Borehole': 1, 12.4: 'yes', ('Borehole', 'Water Level Measurement'): 10.34}\n"
     ]
    }
   ],
   "source": [
    "# We define a dictionary\n",
    "my_dict = {'Borehole': 1, 12.4: \"yes\", ('Borehole', 'Water Level Measurement'): 10.34}\n",
    "print(my_dict)"
   ]
  },
  {
   "cell_type": "markdown",
   "id": "87054d5e",
   "metadata": {},
   "source": [
    "Now that we have discussed collections, let us look at if statements next\n",
    "\n",
    "# If statements\n",
    "\n",
    "If statements work the same way as you would have used them in Excel spreadsheets. An if statement checks if a statement is True or False, and executes a specified block of code based on the result. For example:"
   ]
  },
  {
   "cell_type": "code",
   "execution_count": 27,
   "id": "5854d316",
   "metadata": {},
   "outputs": [
    {
     "name": "stdout",
     "output_type": "stream",
     "text": [
      "The value is positive.\n",
      "The value is less than 5.\n"
     ]
    }
   ],
   "source": [
    "# Let us define a variable\n",
    "x = 3.14\n",
    "# Now let us create an if statement that checks whether a value is positive or negative\n",
    "if x > 0.0:\n",
    "    print(\"The value is positive.\")\n",
    "else:\n",
    "    print(\"The value is negative.\")\n",
    "# We can also ommit the else statement if we only care if a certain criteria is met\n",
    "if x < 5:\n",
    "    print(\"The value is less than 5.\")"
   ]
  },
  {
   "cell_type": "markdown",
   "id": "141addea",
   "metadata": {},
   "source": [
    "Note that the if statement consists of various parts:\n",
    "- The if keyword.\n",
    "- Followed by a statement with a truth-value.\n",
    "- Which is then followed by a colon.\n",
    "- The code that will be executed inside the if statement is then required to be indented by 1 tab or 4 spaces.\n",
    "- If an else clause is to be included, we add the else keyword at the same indentation level at the if statement and follow it with a colon.\n",
    "- If an else clause is to be included, we once again add the code that will be executed at an increased indentation."
   ]
  },
  {
   "cell_type": "markdown",
   "id": "0542cc6f",
   "metadata": {},
   "source": [
    "We can use a variety of different operators to check the truth-value of a specific statement:\n",
    "- x > n: Is x larger than n?\n",
    "- x >= n: Is x larger than or equal to n?\n",
    "- x < n: Is x smaller than n?\n",
    "- x <= n: Is x smaller than or equal to n?\n",
    "- x == n: Is x equal to n?\n",
    "- x != n: Is x not equal to n?\n",
    "\n",
    "Additionally, we can chain multiple if statements by using the elif keyword:"
   ]
  },
  {
   "cell_type": "code",
   "execution_count": 28,
   "id": "66ba86a2",
   "metadata": {},
   "outputs": [
    {
     "name": "stdout",
     "output_type": "stream",
     "text": [
      "None of the above.\n"
     ]
    }
   ],
   "source": [
    "# Let us define a variable\n",
    "x = 3.14\n",
    "# Now let us create an if statement that checks for multiple different cases\n",
    "# Note that we can compare floats to integers and vice versa\n",
    "if x > 5:\n",
    "    print(\"x is larger than 5\")\n",
    "elif x <= 1:\n",
    "    print(\"x is smaller than or equal to 1\")\n",
    "elif x == 2.0:\n",
    "    print(\"x is equal to 2.0\")\n",
    "else:\n",
    "    print(\"None of the above.\")"
   ]
  },
  {
   "cell_type": "markdown",
   "id": "745b24c0",
   "metadata": {},
   "source": [
    "We can also operate with arrays of values using an if statement, for example:"
   ]
  },
  {
   "cell_type": "code",
   "execution_count": 29,
   "id": "e728cb33",
   "metadata": {},
   "outputs": [
    {
     "name": "stdout",
     "output_type": "stream",
     "text": [
      "The value 30 is in the list.\n"
     ]
    }
   ],
   "source": [
    "# Let us define a list\n",
    "x = [10, 20, 30, 40, 50]\n",
    "# Let us see if a particular value occurs in the list\n",
    "if 30 in x:\n",
    "    print(\"The value 30 is in the list.\")\n",
    "else:\n",
    "    print(\"The value 30 is not in the list.\")"
   ]
  },
  {
   "cell_type": "markdown",
   "id": "ec11489b",
   "metadata": {},
   "source": [
    "We can also use the 'and' and 'or' keywords to chain statements:"
   ]
  },
  {
   "cell_type": "code",
   "execution_count": 30,
   "id": "bf5cd7ff",
   "metadata": {},
   "outputs": [
    {
     "name": "stdout",
     "output_type": "stream",
     "text": [
      "False\n",
      "True\n"
     ]
    }
   ],
   "source": [
    "# Define some variables\n",
    "x = 5\n",
    "y = 10\n",
    "# An example of the 'and' keyword\n",
    "if y > x and x > 10:  # Check if both statements are true\n",
    "    print(\"True\")\n",
    "else:\n",
    "    print(\"False\")\n",
    "# An example of the 'or' keyword\n",
    "if y > x or x > 10:  # Check if at least one statement is true\n",
    "    print(\"True\")\n",
    "else:\n",
    "    print(\"False\")"
   ]
  },
  {
   "cell_type": "markdown",
   "id": "baa81453",
   "metadata": {},
   "source": [
    "# Exercise 2: If statements and lists\n",
    "Perform the following:\n",
    "- Create a list containing integers from 1 to 10.\n",
    "- Create the following if statements and have them print the result:\n",
    "    - Check if the first value in the list is larger than zero.\n",
    "    - Check if the last value in the list is equal to twenty, if not print the last value in the list.\n",
    "    - Check if the value 5 occurs within the list.\n",
    "    - Check if the third value in the list is larger than 2 and smaller than 9."
   ]
  },
  {
   "cell_type": "code",
   "execution_count": 31,
   "id": "0b4dd7ca",
   "metadata": {},
   "outputs": [],
   "source": [
    "# Define your list here\n",
    "\n",
    "# Create your if statement here\n"
   ]
  },
  {
   "cell_type": "markdown",
   "id": "9ee176c4",
   "metadata": {},
   "source": [
    "# Loops\n",
    "\n",
    "Loops are used to execute a block of code repeatedly, either for a specific number of times or while a condition is true. Python supports two main types of loops: for loops and while loops.\n",
    "- for: executes a block of code a specified number of times.\n",
    "- while: executes a block of code while a specific condition is True or False.\n",
    "\n",
    "Let us first look at the simplest loop, the while loop:"
   ]
  },
  {
   "cell_type": "code",
   "execution_count": 32,
   "id": "ac597250",
   "metadata": {},
   "outputs": [
    {
     "name": "stdout",
     "output_type": "stream",
     "text": [
      "0\n",
      "1\n",
      "2\n",
      "3\n",
      "4\n",
      "5\n",
      "6\n",
      "7\n",
      "8\n",
      "9\n"
     ]
    }
   ],
   "source": [
    "# A while loop is defined with a truth statement\n",
    "# First let us define our counting variable\n",
    "x = 0\n",
    "# Now we define our while loop\n",
    "while x < 10:\n",
    "    print(x)\n",
    "    x = x + 1"
   ]
  },
  {
   "cell_type": "markdown",
   "id": "7dca5b01",
   "metadata": {},
   "source": [
    "A note of caution must be given, incorrectly defined while loops can continue infinitely. Thus it is important to make sure that the exit criteria can and will be achieved. If we omitted the 'x = x + 1' line in the code above that while statement would have continued printing the value of zero infinite times (or until our computer runs out of memory). This is why while loops must be used with caution and careful thought."
   ]
  },
  {
   "cell_type": "markdown",
   "id": "17f569aa",
   "metadata": {},
   "source": [
    "We can also define other criteria for breaking the loop by using if statements and the 'break' keyword:"
   ]
  },
  {
   "cell_type": "code",
   "execution_count": 33,
   "id": "0b48d21d",
   "metadata": {},
   "outputs": [
    {
     "name": "stdout",
     "output_type": "stream",
     "text": [
      "0\n",
      "1\n",
      "2\n",
      "3\n",
      "4\n",
      "5\n"
     ]
    }
   ],
   "source": [
    "\n",
    "# First let us define our counting variable\n",
    "x = 0\n",
    "# Now we define our while loop same as before\n",
    "while x < 10:\n",
    "    print(x)\n",
    "    # But we add an if statement that will call the break keyword if x is equal to 5\n",
    "    if x == 5:\n",
    "        break\n",
    "    # Increase the value of x as previously\n",
    "    x = x + 1\n"
   ]
  },
  {
   "cell_type": "markdown",
   "id": "b802ac3e",
   "metadata": {},
   "source": [
    "While loops are useful, but more times than not you will be using a for loop. A for loop is used as an iterator over a sequence (like a list, tuple, string or a predefined range). Let us take a look at how you would use a for loop to iterate over a list:"
   ]
  },
  {
   "cell_type": "code",
   "execution_count": 34,
   "id": "01b5de70",
   "metadata": {},
   "outputs": [
    {
     "name": "stdout",
     "output_type": "stream",
     "text": [
      "5\n",
      "3\n",
      "7\n",
      "9\n",
      "12\n",
      "13.5\n",
      "0\n",
      "cat\n"
     ]
    }
   ],
   "source": [
    "# Let us define a list\n",
    "my_list = [5, 3, 7, 9, 12, 13.5, 0, \"cat\"]\n",
    "# Now let us iterate over the list\n",
    "for x in my_list:\n",
    "    print(x)"
   ]
  },
  {
   "cell_type": "markdown",
   "id": "1645d2cc",
   "metadata": {},
   "source": [
    "In this way a for loop facilitates calculations or operations on arrays of values, and it is flexible as well. You can also use a for loop to do something x amount of times without including a list:"
   ]
  },
  {
   "cell_type": "code",
   "execution_count": 35,
   "id": "1d0b618a",
   "metadata": {},
   "outputs": [
    {
     "name": "stdout",
     "output_type": "stream",
     "text": [
      "2\n",
      "3\n",
      "5\n",
      "8\n",
      "12\n"
     ]
    }
   ],
   "source": [
    "# Let us define a variable\n",
    "x = 2\n",
    "# Now let us iterate over a range to perform an action that many times\n",
    "for i in range(5):\n",
    "    x = x + i\n",
    "    print(x)"
   ]
  },
  {
   "cell_type": "markdown",
   "id": "33b435f9",
   "metadata": {},
   "source": [
    "Note that the counter (i in the example above) will start at zero, similar to how indexes work. Thus if we iterate over a range of 5 the values of i will be:"
   ]
  },
  {
   "cell_type": "code",
   "execution_count": 36,
   "id": "185afa9a",
   "metadata": {},
   "outputs": [
    {
     "name": "stdout",
     "output_type": "stream",
     "text": [
      "0\n",
      "1\n",
      "2\n",
      "3\n",
      "4\n"
     ]
    }
   ],
   "source": [
    "# Let us print the value of i for the range of 5\n",
    "for i in range(5):\n",
    "    print(i)"
   ]
  },
  {
   "cell_type": "code",
   "execution_count": 37,
   "id": "fb657a1e",
   "metadata": {},
   "outputs": [
    {
     "name": "stdout",
     "output_type": "stream",
     "text": [
      "12\n",
      "23\n",
      "35\n",
      "48\n",
      "62\n"
     ]
    }
   ],
   "source": [
    "# Let us define a variable again\n",
    "x = 2\n",
    "# We can also provide a lower limit for a range\n",
    "for i in range(10, 15):  # This will still only do the operation 5 times\n",
    "    x = x + i\n",
    "    print(x)"
   ]
  },
  {
   "cell_type": "markdown",
   "id": "82295df7",
   "metadata": {},
   "source": [
    "Ranges also provides a way to work through multiple lists of the same length and order at once. Let's say you need to the specific discharge for 5 different scenarios:"
   ]
  },
  {
   "cell_type": "code",
   "execution_count": 38,
   "id": "365e0751",
   "metadata": {},
   "outputs": [
    {
     "name": "stdout",
     "output_type": "stream",
     "text": [
      "The discharge is 0.004\n",
      "The discharge is 0.04\n",
      "The discharge is 0.12300000000000001\n",
      "The discharge is 1.457\n",
      "The discharge is 0.0007199999999999999\n"
     ]
    }
   ],
   "source": [
    "# Let us define the lists\n",
    "k_values = [0.1, 0.04, 12.3, 4.7, 0.001]\n",
    "gradient_values = [-0.04, -1.0, -0.01, -0.31, -0.72]\n",
    "# Let us create our loop\n",
    "for i in range(5):\n",
    "    discharge = -1 * k_values[i] * gradient_values[i]  # q = -KI\n",
    "    print(\"The discharge is\", discharge)"
   ]
  },
  {
   "cell_type": "markdown",
   "id": "ab5de75a",
   "metadata": {},
   "source": [
    "# Exercise 3: Discharge using Darcy's Law for a series of K-values\n",
    "Perform the following:\n",
    "- Using the provided list of K-values ([0.001, 0.005, 0.01, 0.05, 0.1]) and a for loop, calculate the discharge for each K-value and print it.\n",
    "\n",
    "Additional data:\n",
    "- I = -0.7\n",
    "- A = 50 m<sup>2</sup>"
   ]
  },
  {
   "cell_type": "code",
   "execution_count": 39,
   "id": "710e1618",
   "metadata": {},
   "outputs": [],
   "source": [
    "# Here is the list\n",
    "k_values = [0.001, 0.005, 0.01, 0.05, 0.1]\n",
    "# Implement your for loop here\n"
   ]
  },
  {
   "cell_type": "markdown",
   "id": "fbf20f05",
   "metadata": {},
   "source": [
    "# Functions and Methods"
   ]
  },
  {
   "cell_type": "markdown",
   "id": "1b4bf246",
   "metadata": {},
   "source": [
    "Functions and Methods add powerful functionality to Python. A function is a block of reusable code that can be called by means of the name of the function. A method is a function that is associated with an object and is defined inside the code of that object. It operates on the data (attributes) of the object it belongs to. A method is called by typing a point (.) after an object's name.\n",
    "\n",
    "You can perform a variety of operations with the build-in functions:"
   ]
  },
  {
   "cell_type": "code",
   "execution_count": 40,
   "id": "ed85a3f2",
   "metadata": {},
   "outputs": [
    {
     "name": "stdout",
     "output_type": "stream",
     "text": [
      "30\n",
      "12\n",
      "1\n",
      "6\n",
      "6\n"
     ]
    }
   ],
   "source": [
    "# Create a list\n",
    "x = [3, 7, 2, 5, 12, 1]\n",
    "# Print the sum of all items in the list\n",
    "print(sum(x))\n",
    "# Print the maximum value in the list\n",
    "print(max(x))\n",
    "# Print the minimum value in the list\n",
    "print(min(x))\n",
    "# Get the number of elements in the list\n",
    "print(len(x))\n",
    "# The length function will also work on a string\n",
    "print(len(\"Hello!\"))"
   ]
  },
  {
   "cell_type": "code",
   "execution_count": 41,
   "id": "357c4663",
   "metadata": {},
   "outputs": [
    {
     "name": "stdout",
     "output_type": "stream",
     "text": [
      "The index of 12 in the list is 4\n"
     ]
    }
   ],
   "source": [
    "# We can get the index of an element in the list by using the index-method of a list\n",
    "i = x.index(12)\n",
    "print(\"The index of 12 in the list is\", i)"
   ]
  },
  {
   "cell_type": "markdown",
   "id": "81ac387a",
   "metadata": {},
   "source": [
    "We can define our own functions by:\n",
    "- Typing the keyword def (define).\n",
    "- Providing a name for the function. \n",
    "- Followed by a set of paranthesis, within which any input to the function can be defined.\n",
    "- Lastly, we add a colon (:) to finish the definition of the function.\n",
    "\n",
    "All code that will be executed by the function needs to be indented by one press of the TAB key or four presses of the spacebar."
   ]
  },
  {
   "cell_type": "code",
   "execution_count": 42,
   "id": "6c9de0d5",
   "metadata": {},
   "outputs": [],
   "source": [
    "def calculate_gradient(head_one, head_two, length):\n",
    "    gradient = (head_two - head_one) / length\n",
    "    print(gradient)"
   ]
  },
  {
   "cell_type": "markdown",
   "id": "be984712",
   "metadata": {},
   "source": [
    "Once we have defined our function, we can call it by using its name and providing the input:"
   ]
  },
  {
   "cell_type": "code",
   "execution_count": 43,
   "id": "228c7d58",
   "metadata": {},
   "outputs": [
    {
     "name": "stdout",
     "output_type": "stream",
     "text": [
      "0.16666666666666666\n"
     ]
    }
   ],
   "source": [
    "calculate_gradient(10, 15, 30)"
   ]
  },
  {
   "cell_type": "markdown",
   "id": "6f878a2b",
   "metadata": {},
   "source": [
    "We can have our function return a value by adding the return keyword with a variable or value in the function:"
   ]
  },
  {
   "cell_type": "code",
   "execution_count": 44,
   "id": "5c5f4ed8",
   "metadata": {},
   "outputs": [
    {
     "name": "stdout",
     "output_type": "stream",
     "text": [
      "-0.15\n"
     ]
    }
   ],
   "source": [
    "h1 = 20\n",
    "h2 = 17\n",
    "d = 20\n",
    "\n",
    "def calculate_gradient(head_one, head_two, length):\n",
    "    gradient = (head_two - head_one) / length\n",
    "    return gradient\n",
    "\n",
    "gradient = calculate_gradient(h1, h2, d)\n",
    "print(gradient)"
   ]
  },
  {
   "cell_type": "markdown",
   "id": "244b480a",
   "metadata": {},
   "source": [
    "Now that we have functions it is important to discuss Scope. Any variable that is defined within a function belongs to the local scope of that function. Meaning, we won't be able to access it outside that function, for example:"
   ]
  },
  {
   "cell_type": "code",
   "execution_count": 45,
   "id": "30c3f31d",
   "metadata": {},
   "outputs": [
    {
     "name": "stdout",
     "output_type": "stream",
     "text": [
      "15\n"
     ]
    },
    {
     "ename": "NameError",
     "evalue": "name 'the_sum' is not defined",
     "output_type": "error",
     "traceback": [
      "\u001b[31m---------------------------------------------------------------------------\u001b[39m",
      "\u001b[31mNameError\u001b[39m                                 Traceback (most recent call last)",
      "\u001b[36mCell\u001b[39m\u001b[36m \u001b[39m\u001b[32mIn[45]\u001b[39m\u001b[32m, line 14\u001b[39m\n\u001b[32m     11\u001b[39m sum_stuff()\n\u001b[32m     12\u001b[39m \u001b[38;5;66;03m# Try to use the the_sum variable that was defined in the function. \u001b[39;00m\n\u001b[32m     13\u001b[39m \u001b[38;5;66;03m# Since it is not defined in the script scope this will give a Name Error\u001b[39;00m\n\u001b[32m---> \u001b[39m\u001b[32m14\u001b[39m \u001b[38;5;28mprint\u001b[39m(\u001b[43mthe_sum\u001b[49m)\n",
      "\u001b[31mNameError\u001b[39m: name 'the_sum' is not defined"
     ]
    }
   ],
   "source": [
    "# Variables declared in script scope\n",
    "x = 10\n",
    "y = 5\n",
    "\n",
    "# Our variables can use the variables defined in the script scope without problems\n",
    "def sum_stuff():\n",
    "    the_sum = x + y  # the_sum is defined only in the local scope of the function\n",
    "    print(the_sum)\n",
    "\n",
    "# Use our function\n",
    "sum_stuff()\n",
    "# Try to use the the_sum variable that was defined in the function. \n",
    "# Since it is not defined in the script scope this will give a Name Error\n",
    "print(the_sum)"
   ]
  },
  {
   "cell_type": "markdown",
   "id": "41afc26d",
   "metadata": {},
   "source": [
    "We can also use functions inside loops:"
   ]
  },
  {
   "cell_type": "code",
   "execution_count": 46,
   "id": "53717732",
   "metadata": {},
   "outputs": [
    {
     "name": "stdout",
     "output_type": "stream",
     "text": [
      "0\n",
      "1\n",
      "4\n",
      "9\n",
      "16\n"
     ]
    }
   ],
   "source": [
    "# We define our function\n",
    "def our_function(x):\n",
    "    return x * x\n",
    "\n",
    "# We define a loop\n",
    "for i in range(5):\n",
    "    print(our_function(i))"
   ]
  },
  {
   "cell_type": "markdown",
   "id": "57447b06",
   "metadata": {},
   "source": [
    "# Exercise 4: Design a function for Darcy's Law and use it for various sites\n",
    "Perform the following:\n",
    "- Create a function for Darcy's Law\n",
    "- The K-values were provided in mm/s instead of m/d, convert the values to m/d.\n",
    "- Using the provided lists of values and a for loop, calculate the discharge for each set of values and print it.\n",
    "- Create a dictionary and store the discharge in the dictionary for each scenario. Use the K-value as the key and the discharge as the value.\n",
    "\n",
    "Additional data:\n",
    "- H1 = [41, 12, 8, 7.61, 19.7]\n",
    "- H2 = [37, 10, 3, 4.53, 12.3]\n",
    "- L = [100, 30, 40.5, 27.84, 72.8]\n",
    "- A = [37, 10, 3, 4.53, 12.3]\n",
    "- K = [0.0000115741, 0.0000578704, 0.00011574, 0.000578704, 0.00115741]"
   ]
  },
  {
   "cell_type": "code",
   "execution_count": 47,
   "id": "2c56d33c",
   "metadata": {},
   "outputs": [],
   "source": [
    "# Input data:\n",
    "Head_1_list = [41, 12, 8, 7.61, 19.7]\n",
    "Head_2_list = [37, 10, 3, 4.53, 12.3]\n",
    "Length_list = [100, 30, 40.5, 27.84, 72.8]\n",
    "Area_list = [37, 10, 3, 4.53, 12.3]\n",
    "K_list = [0.0000115741, 0.0000578704, 0.00011574, 0.000578704, 0.00115741]\n",
    "# Convert the K-values to m/d\n",
    "\n",
    "# Define the Darcy Function\n",
    "\n",
    "# Define your dictionary\n",
    "\n",
    "# Use a for loop and the Darcy function to calculate the discharge for each of the five scenarios, print it and store it\n"
   ]
  },
  {
   "cell_type": "markdown",
   "id": "3dd011a6",
   "metadata": {},
   "source": [
    "# Packages\n",
    "Let us progress now to arguably one of the best parts of Python: the toolboxes at our disposal by means of packages. Firstly, we import packages by means of the 'import' keyword followed by the name of the package. "
   ]
  },
  {
   "cell_type": "code",
   "execution_count": 48,
   "id": "674cdb22",
   "metadata": {},
   "outputs": [
    {
     "name": "stdout",
     "output_type": "stream",
     "text": [
      "4.0\n",
      "2.302585092994046\n",
      "1.0\n",
      "3.141592653589793\n",
      "2.718281828459045\n"
     ]
    }
   ],
   "source": [
    "# We import the math package\n",
    "import math\n",
    "\n",
    "# We can now use it and the methods it contains as follows\n",
    "print(math.sqrt(16))\n",
    "print(math.log(10))\n",
    "print(math.log10(10))\n",
    "# Packages can also contain values such as constants\n",
    "print(math.pi)\n",
    "print(math.e)"
   ]
  },
  {
   "cell_type": "markdown",
   "id": "71bef59a",
   "metadata": {},
   "source": [
    "The accepted convention is to define all the packages that will be imported at the top of a Python script or the first cell in a Jupyter Notebook. For the sake of flow in this course we have not done this, but that is what you should usually do. From tomorrow onwards we will be using this convention."
   ]
  },
  {
   "cell_type": "markdown",
   "id": "306b58b3",
   "metadata": {},
   "source": [
    "The math package is just one of many packages that is bundled into Python to form its Standard Library. The Standard Library of a programming language is a collection of pre-written code that is made available by default when you use the language. It provides a set of functionalities that are commonly needed by programmers, such as algorithms, data structures, input/output operations, and interaction with the host operating system. Some of the common libraries in Python's Standard Library includes:\n",
    "- os: Interact with the operating system (e.g., file paths, environment variables).\n",
    "- math: Basic mathematical functions (e.g., log, square root).\n",
    "- tkinter: Creation of graphical user interfaces (GUIs)\n",
    "- datetime: Handling of time and data values.\n",
    "- csv: Read and write to csv files.\n",
    "- random: Random number generators.\n",
    "- statistics: Basic statistics (e.g., mean, median)"
   ]
  },
  {
   "cell_type": "code",
   "execution_count": 49,
   "id": "3bc0ca9d",
   "metadata": {},
   "outputs": [
    {
     "name": "stdout",
     "output_type": "stream",
     "text": [
      "85.10822007343916\n",
      "74\n"
     ]
    }
   ],
   "source": [
    "# Let us import the statistics package\n",
    "import statistics\n",
    "\n",
    "# Define a list of values\n",
    "x = [16, 74, 34, 63, 92, 125, 1109]\n",
    "\n",
    "# Print the geometric mean of the list\n",
    "print(statistics.geometric_mean(x))\n",
    "# Print the median value of the list\n",
    "print(statistics.median(x))"
   ]
  },
  {
   "cell_type": "markdown",
   "id": "5bb5ca4f",
   "metadata": {},
   "source": [
    "# Exercise 5: Design a function for the Thiem Equation and use it for the provided data\n",
    "Perform the following:\n",
    "- Create a function for the Thiem Equation.\n",
    "- Using the provided values and a for loop, calculate and print the abstraction rate necessary to provide the specified heads for different transmissivity values.\n",
    "\n",
    "Additional data:\n",
    "- head_at_x = 12.0 m\n",
    "- distance_at_x = 0.08 m\n",
    "- head_at_y = 7.8 m\n",
    "- distance_at_y = 5.0 m\n",
    "- transmissivity = [5.0, 12.0, 20.0, 50.0] m<sup>2</sup>/d\n",
    "\n",
    "The Thiem Equation:\n",
    "$$ Q = \\frac{2 \\pi T (h_1 - h_2)}{\\ln \\left( \\frac{r_2}{r_1} \\right)} $$"
   ]
  },
  {
   "cell_type": "code",
   "execution_count": 50,
   "id": "b383f7ee",
   "metadata": {},
   "outputs": [],
   "source": [
    "# The variables\n",
    "hx = 12.0\n",
    "rx = 0.08\n",
    "hy = 7.8\n",
    "ry = 5.0\n",
    "T = [5.0, 12.0, 20.0, 50.0]\n",
    "# Create your Thiem function here\n",
    "\n",
    "# Do your calculations here\n"
   ]
  },
  {
   "cell_type": "markdown",
   "id": "525eb311",
   "metadata": {},
   "source": [
    "# External Packages\n",
    "\n",
    "Now let us move on to installing and making use of external packages. We shall look at one package today which is matplotlib, which is used to plot graphs. First, we need to install it, and for that we will have to use the terminal to execute the following command: \n",
    "\n",
    "pip install matplotlib\n",
    "\n",
    "The command consists of three parts:\n",
    "- pip: The name of the package manager we will be using.\n",
    "- install: Requests that the package must be installed in the local environment.\n",
    "- matplotlib: The name of the package that we want to install."
   ]
  },
  {
   "cell_type": "markdown",
   "id": "7c7c05ba",
   "metadata": {},
   "source": [
    "Once the package is installed, we import it as with any other package, but we will be taking it a step further:\n",
    "- We are only interested in the pyplot submodule of the matplotlib package.\n",
    "- We will be giving the package a nickname which is easier and quicker to type.\n",
    "\n",
    "The nickname \"plt\" is a convention when importing matplotlib.pyplot and you will encounter it in most Python codebases that use the package."
   ]
  },
  {
   "cell_type": "code",
   "execution_count": 51,
   "id": "39006a6c",
   "metadata": {},
   "outputs": [
    {
     "data": {
      "text/plain": [
       "[<matplotlib.lines.Line2D at 0x2349dca2cc0>]"
      ]
     },
     "execution_count": 51,
     "metadata": {},
     "output_type": "execute_result"
    },
    {
     "data": {
      "image/png": "[encoded data removed]",
      "text/plain": [
       "<Figure size 640x480 with 1 Axes>"
      ]
     },
     "metadata": {},
     "output_type": "display_data"
    }
   ],
   "source": [
    "# Import the submodule and provide the nickname as is convention\n",
    "import matplotlib.pyplot as plt\n",
    "\n",
    "# Now let's create a simple figure!\n",
    "# First we will need some data\n",
    "x = [1, 2, 3, 4, 5, 6, 7, 8, 9, 10]\n",
    "y = [1, 2, 3, 4, 5, 6, 7, 8, 9, 10]\n",
    "# Now let us create a figure\n",
    "plt.plot(x, y)"
   ]
  },
  {
   "cell_type": "markdown",
   "id": "7eb2a2c0",
   "metadata": {},
   "source": [
    "The plt.plot method is the simplest way of creating a graph. It will draw a line graph based on the provided data. We can also customise the plot with a few additional lines of code:"
   ]
  },
  {
   "cell_type": "code",
   "execution_count": 52,
   "id": "a7f20b25",
   "metadata": {},
   "outputs": [
    {
     "data": {
      "image/png": "[encoded data removed]",
      "text/plain": [
       "<Figure size 640x480 with 1 Axes>"
      ]
     },
     "metadata": {},
     "output_type": "display_data"
    }
   ],
   "source": [
    "plt.plot(x, y, label='Linear Growth', color='blue', marker='o')\n",
    "plt.title('Basic Line Plot')\n",
    "plt.xlabel('X-axis')\n",
    "plt.ylabel('Y-axis')\n",
    "plt.legend()\n",
    "plt.grid(True)\n",
    "plt.show()"
   ]
  },
  {
   "cell_type": "markdown",
   "id": "baa78323",
   "metadata": {},
   "source": [
    "We can also create other types of plots. Let us first look at a scatter plot:"
   ]
  },
  {
   "cell_type": "code",
   "execution_count": 53,
   "id": "bfd9a2b0",
   "metadata": {},
   "outputs": [
    {
     "data": {
      "image/png": "[encoded data removed]",
      "text/plain": [
       "<Figure size 640x480 with 1 Axes>"
      ]
     },
     "metadata": {},
     "output_type": "display_data"
    }
   ],
   "source": [
    "plt.scatter(x, y, label='Linear Growth', color='red', marker='o')\n",
    "plt.title('Basic Scatter Plot')\n",
    "plt.xlabel('X-axis')\n",
    "plt.ylabel('Y-axis')\n",
    "plt.legend()\n",
    "plt.show()"
   ]
  },
  {
   "cell_type": "markdown",
   "id": "7feb2336",
   "metadata": {},
   "source": [
    "We can also make bar charts:"
   ]
  },
  {
   "cell_type": "code",
   "execution_count": 54,
   "id": "9f6e7ec5",
   "metadata": {},
   "outputs": [
    {
     "data": {
      "image/png": "[encoded data removed]",
      "text/plain": [
       "<Figure size 640x480 with 1 Axes>"
      ]
     },
     "metadata": {},
     "output_type": "display_data"
    }
   ],
   "source": [
    "# Define some data\n",
    "categories = ['A', 'B', 'C', 'D']\n",
    "values = [3, 7, 8, 5]\n",
    "\n",
    "# Plot it\n",
    "plt.bar(categories, values, color='green')\n",
    "plt.title('Bar Chart Example')\n",
    "plt.xlabel('Categories')\n",
    "plt.ylabel('Values')\n",
    "plt.show()"
   ]
  },
  {
   "cell_type": "markdown",
   "id": "9af0b7c2",
   "metadata": {},
   "source": [
    "We can also plot multiple datasets on a single plot:"
   ]
  },
  {
   "cell_type": "code",
   "execution_count": 55,
   "id": "73b8a7e4",
   "metadata": {},
   "outputs": [
    {
     "data": {
      "image/png": "[encoded data removed]",
      "text/plain": [
       "<Figure size 640x480 with 1 Axes>"
      ]
     },
     "metadata": {},
     "output_type": "display_data"
    }
   ],
   "source": [
    "# First we will need some data\n",
    "x = [1, 2, 3, 4, 5, 6, 7, 8, 9, 10]\n",
    "y_1 = [1, 2, 3, 4, 5, 6, 7, 8, 9, 10]\n",
    "# Now we are going to use some list comprehensions to generate additional data\n",
    "y_2 = [i * i for i in x]\n",
    "y_3 = [math.log10(i) for i in x]\n",
    "# Now let us create a figure\n",
    "plt.plot(x, y_1, label='Linear Growth', color='blue', linestyle='-')\n",
    "plt.plot(x, y_2, label='Exponential Growth', color='orange', linestyle='--')\n",
    "plt.plot(x, y_3, label='Logarithmic Growth', color='red', linestyle='-.')\n",
    "plt.title('Multiple Lines')\n",
    "plt.xlabel('X-axis')\n",
    "plt.ylabel('Y-axis')\n",
    "plt.legend()\n",
    "plt.grid(True)\n",
    "plt.show()"
   ]
  },
  {
   "cell_type": "markdown",
   "id": "0e644af5",
   "metadata": {},
   "source": [
    "# Exercise 6: Create a graph illustrating the cosine function\n",
    "Perform the following:\n",
    "- For the provided list of x-values, get the cosine of each x in a new list.\n",
    "- Plot the data on a graph. Customise the graph as you wish.\n",
    "\n",
    "Additional data:\n",
    "- x_values = [-7.0, -6.9, ..., -0.1, 0.0, 0.1, ..., 6.9, 7.0]\n"
   ]
  },
  {
   "cell_type": "code",
   "execution_count": 56,
   "id": "de0df3a6",
   "metadata": {},
   "outputs": [],
   "source": [
    "# The provided x-values\n",
    "x_list = [-7 + 0.1 * i for i in range(141)]\n",
    "# Calculate the cosine of the x-values\n",
    "\n",
    "# Plot the results\n"
   ]
  },
  {
   "cell_type": "markdown",
   "id": "ecf06657",
   "metadata": {},
   "source": [
    "# Exercise 7: Create a plot illustrating how drawdown varies with distance using the Thiem equation\n",
    "Perform the following:\n",
    "- For the provided parameters and list of distances, calculate the head at each distance from the well.\n",
    "- Plot the results on a graph. Customise the graph as you wish.\n",
    "\n",
    "Additional data:\n",
    "- distance_values = [1.0, 2.0, ..., 39.0, 40.0] m\n",
    "- Head at X = 12.0 m\n",
    "- Distance of X = 0.08 m\n",
    "- Transmissivity = 20.0 m<sup>2</sup>/d\n",
    "- Abstraction Rate = 68.4 m<sup>3</sup>/d\n",
    "\n",
    "The Thiem Equation:\n",
    "$$ h_2 = \\frac{Q}{2 \\pi T}\\ln{\\frac{r_2}{r_1}} + h_1 $$"
   ]
  },
  {
   "cell_type": "code",
   "execution_count": 57,
   "id": "3ed7c664",
   "metadata": {},
   "outputs": [],
   "source": [
    "# The variables\n",
    "hx = 12.0\n",
    "rx = 0.08\n",
    "T = 20.0\n",
    "Q = 68.4\n",
    "# The distance values list\n",
    "d_list = [i + 1 for i in range(40)]\n",
    "# Create your function for Thiem here\n",
    "\n",
    "# Calculations here\n",
    "\n",
    "# Plotting here\n"
   ]
  },
  {
   "cell_type": "markdown",
   "id": "76fea52f",
   "metadata": {},
   "source": [
    "# Capstone Exercise: The Theis Equation\n",
    "\n",
    "Under the utils folder there is an AnalyticalMethods.py file. This file contains the implementation of functions for using the Theis equation to calculate transient drawdown due to pumping. Using the provided functions and the following aquifer parameters:\n",
    "- Transmissivity: 40 m2/d\n",
    "- Storativity: 0.001\n",
    "\n",
    "Calculate the following:\n",
    "- The head in the pumping well every minute for 8 hours of pumping at a rate of 2 liters per second. Plot your results.\n",
    "- Repeat the above instructions, but include a no-flow boundary a distance of 10 meters from the pumped well. Plot your results.\n",
    "- Calculate the drawdown after 8 hours of pumping at 1 liters per second at the specified distances and plot the results (No no-flow boundary).\n",
    "- Repeat the above instructions, but have the transmissivity vary by an order of magnitude. Then, do the same for storativity. Plot your results and compare the shape of the cone of dewatering for varying transmissivity and storativity (use a new code cell for each parameter).\n",
    "\n",
    "Bonus task:\n",
    "- Read up online on how to change your axis to logarithmic scale and provide a semi-log and loglog plot of the drawdown data calculated in the first and second tasks. How do they compare? Hint: \"plt.gca()...\"\n",
    "\n",
    "In order to use the AnalyticalMethods.py file you will first need to install the scipy package with pip.\n",
    "\n",
    "Complete each task in a new code cell."
   ]
  },
  {
   "cell_type": "code",
   "execution_count": 58,
   "id": "fec38560",
   "metadata": {},
   "outputs": [],
   "source": [
    "# Here are some premade variables\n",
    "transmissivity = 40  # m2/d\n",
    "storativity = 0.001\n",
    "distances = [0.08, 0.5, 1, 2, 3, 5, 7, 9, 12, 15, 18, 21, 25, 30, 35, 40]  # m\n",
    "# Start answering the above questions from here.\n"
   ]
  },
  {
   "cell_type": "code",
   "execution_count": null,
   "id": "4ecbd097",
   "metadata": {},
   "outputs": [],
   "source": []
  }
 ],
 "metadata": {
  "kernelspec": {
   "display_name": ".venv",
   "language": "python",
   "name": "python3"
  },
  "language_info": {
   "codemirror_mode": {
    "name": "ipython",
    "version": 3
   },
   "file_extension": ".py",
   "mimetype": "text/x-python",
   "name": "python",
   "nbconvert_exporter": "python",
   "pygments_lexer": "ipython3",
   "version": "3.12.2"
  }
 },
 "nbformat": 4,
 "nbformat_minor": 5
}

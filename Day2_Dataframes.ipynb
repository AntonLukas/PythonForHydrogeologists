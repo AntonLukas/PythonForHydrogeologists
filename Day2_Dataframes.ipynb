{
  "cells": [
    {
      "cell_type": "markdown",
      "metadata": {},
      "source": [
        "# Day 2: Exploring tabulated data with Pandas"
      ]
    },
    {
      "cell_type": "markdown",
      "metadata": {},
      "source": [
        "Pandas is the best-in-slot tabulated data package in Python. Due to its immense popularity there is a vast variety of functionality build into it and a wealth of resources available on working with Pandas online. To start things off we will import pandas and give it the nickname 'pd' (Once again a convention within the Python community)."
      ]
    },
    {
      "cell_type": "code",
      "execution_count": 1,
      "metadata": {
        "id": "nORy44FxU3Tu"
      },
      "outputs": [],
      "source": [
        "# We import pandas and abbreviate it to pd\n",
        "import pandas as pd\n",
        "# We are also going to need matplotlib to plot our data\n",
        "import matplotlib.pyplot as plt"
      ]
    },
    {
      "cell_type": "markdown",
      "metadata": {},
      "source": [
        "So first let us open our dear friend: the Microsoft Excel file."
      ]
    },
    {
      "cell_type": "code",
      "execution_count": 2,
      "metadata": {
        "colab": {
          "base_uri": "https://localhost:8080/"
        },
        "id": "MYRLUVkiU3hs",
        "outputId": "886d2263-cc23-45f3-9c51-bbcce04ba0d9"
      },
      "outputs": [],
      "source": [
        "# We can point to an Excel file by providing the path to the file\n",
        "excel_file = pd.ExcelFile(\"./data/Tabulated/CTS_Database.xlsx\")"
      ]
    },
    {
      "cell_type": "markdown",
      "metadata": {},
      "source": [
        "There is a few things to note from our previous cell of code:\n",
        "- First: We declare the Excel file like we would a variable. We need an object to contain the data of the Excel file.\n",
        "- Secondly: We use the ExcelFile method of pandas to open Excel Files.\n",
        "- Third: We use the file path relative to the script to locate the file. "
      ]
    },
    {
      "cell_type": "markdown",
      "metadata": {},
      "source": [
        "We can see which sheets are in the Excel file by calling the sheet_names property of Excel File"
      ]
    },
    {
      "cell_type": "code",
      "execution_count": 3,
      "metadata": {},
      "outputs": [
        {
          "data": {
            "text/plain": [
              "['BasicInf', 'Time WL', 'BH Geology']"
            ]
          },
          "execution_count": 3,
          "metadata": {},
          "output_type": "execute_result"
        }
      ],
      "source": [
        "# And see the name of each sheet by\n",
        "excel_file.sheet_names"
      ]
    },
    {
      "cell_type": "markdown",
      "metadata": {},
      "source": [
        "Let's inspect the Time Waterlevel sheet. A sheet can of course contain a lot of data. So if we just want to view the top few records of a sheet we do so with the .head() method.\n",
        "- You can also specify a number within the parenthesis of the method to show that many record (e.g. .head(10) to show the first 10 records.)"
      ]
    },
    {
      "cell_type": "code",
      "execution_count": 4,
      "metadata": {
        "colab": {
          "base_uri": "https://localhost:8080/",
          "height": 206
        },
        "id": "kgiqD2woVSLR",
        "outputId": "2204a76b-7833-4a1e-f696-d61588c8b5a2"
      },
      "outputs": [
        {
          "data": {
            "text/html": [
              "<div>\n",
              "<style scoped>\n",
              "    .dataframe tbody tr th:only-of-type {\n",
              "        vertical-align: middle;\n",
              "    }\n",
              "\n",
              "    .dataframe tbody tr th {\n",
              "        vertical-align: top;\n",
              "    }\n",
              "\n",
              "    .dataframe thead th {\n",
              "        text-align: right;\n",
              "    }\n",
              "</style>\n",
              "<table border=\"1\" class=\"dataframe\">\n",
              "  <thead>\n",
              "    <tr style=\"text-align: right;\">\n",
              "      <th></th>\n",
              "      <th>SiteName</th>\n",
              "      <th>DateTimeMeas</th>\n",
              "      <th>Waterlevel</th>\n",
              "      <th>Status</th>\n",
              "    </tr>\n",
              "  </thead>\n",
              "  <tbody>\n",
              "    <tr>\n",
              "      <th>0</th>\n",
              "      <td>D1</td>\n",
              "      <td>2005-04-04 08:15:00</td>\n",
              "      <td>12.72</td>\n",
              "      <td>NaN</td>\n",
              "    </tr>\n",
              "    <tr>\n",
              "      <th>1</th>\n",
              "      <td>D1</td>\n",
              "      <td>2005-07-01 00:00:00</td>\n",
              "      <td>12.81</td>\n",
              "      <td>NaN</td>\n",
              "    </tr>\n",
              "    <tr>\n",
              "      <th>2</th>\n",
              "      <td>D1</td>\n",
              "      <td>2005-07-01 14:00:00</td>\n",
              "      <td>12.81</td>\n",
              "      <td>NaN</td>\n",
              "    </tr>\n",
              "    <tr>\n",
              "      <th>3</th>\n",
              "      <td>D1</td>\n",
              "      <td>2005-07-04 00:00:00</td>\n",
              "      <td>12.72</td>\n",
              "      <td>NaN</td>\n",
              "    </tr>\n",
              "    <tr>\n",
              "      <th>4</th>\n",
              "      <td>D1</td>\n",
              "      <td>2005-07-05 08:35:00</td>\n",
              "      <td>14.52</td>\n",
              "      <td>NaN</td>\n",
              "    </tr>\n",
              "  </tbody>\n",
              "</table>\n",
              "</div>"
            ],
            "text/plain": [
              "  SiteName        DateTimeMeas  Waterlevel  Status\n",
              "0       D1 2005-04-04 08:15:00       12.72     NaN\n",
              "1       D1 2005-07-01 00:00:00       12.81     NaN\n",
              "2       D1 2005-07-01 14:00:00       12.81     NaN\n",
              "3       D1 2005-07-04 00:00:00       12.72     NaN\n",
              "4       D1 2005-07-05 08:35:00       14.52     NaN"
            ]
          },
          "execution_count": 4,
          "metadata": {},
          "output_type": "execute_result"
        }
      ],
      "source": [
        "# We can open a specific sheet as follows\n",
        "df_wl = excel_file.parse(\"Time WL\")\n",
        "# And take a peak at the files contents\n",
        "df_wl.head()"
      ]
    },
    {
      "cell_type": "markdown",
      "metadata": {},
      "source": [
        "For some more information regarding the number of records and the different types of columns present in the sheet we can use the .info() method:"
      ]
    },
    {
      "cell_type": "code",
      "execution_count": 5,
      "metadata": {
        "colab": {
          "base_uri": "https://localhost:8080/"
        },
        "id": "Fq6SdG0XWORL",
        "outputId": "fc442b70-4c5b-40a5-ba77-bbbcd658f7dd"
      },
      "outputs": [
        {
          "name": "stdout",
          "output_type": "stream",
          "text": [
            "<class 'pandas.core.frame.DataFrame'>\n",
            "RangeIndex: 690 entries, 0 to 689\n",
            "Data columns (total 4 columns):\n",
            " #   Column        Non-Null Count  Dtype         \n",
            "---  ------        --------------  -----         \n",
            " 0   SiteName      690 non-null    object        \n",
            " 1   DateTimeMeas  690 non-null    datetime64[ns]\n",
            " 2   Waterlevel    690 non-null    float64       \n",
            " 3   Status        0 non-null      float64       \n",
            "dtypes: datetime64[ns](1), float64(2), object(1)\n",
            "memory usage: 21.7+ KB\n"
          ]
        }
      ],
      "source": [
        "# We can get some information\n",
        "df_wl.info()"
      ]
    },
    {
      "cell_type": "markdown",
      "metadata": {},
      "source": [
        "From the above we can see that there are four columns in the sheet, with a total of 690 records. The .info() method will also tell us the data type of each column.\n",
        "\n",
        "Now let us get a list of the unique SiteNames present in the sheet:"
      ]
    },
    {
      "cell_type": "code",
      "execution_count": 6,
      "metadata": {},
      "outputs": [
        {
          "name": "stdout",
          "output_type": "stream",
          "text": [
            "['D1' 'D2' 'D3' 'D4' 'D5' 'D6' 'DC1' 'DC2' 'UO1' 'UO13' 'UO14' 'UO18P1'\n",
            " 'UO18P2' 'UO19' 'UO2' 'UO20' 'UO23' 'UO24' 'UO25' 'UO26' 'UO27' 'UO28'\n",
            " 'UO29' 'UO3' 'UO30' 'UO4' 'UO5' 'UO6' 'UO7' 'UP15' 'UP16' 'UO27P3'\n",
            " 'UO28P3' 'UO29P3' 'NH3']\n"
          ]
        }
      ],
      "source": [
        "print(df_wl[\"SiteName\"].unique())"
      ]
    },
    {
      "cell_type": "markdown",
      "metadata": {},
      "source": [
        "From the above code we can see that columns are indexed the same way we would a list or dictionary, except instead of an index we provide the name of the column. Then once we have the data for just that column we then proceed to call the .unique() method to get all unique values in that column.\n",
        "\n",
        "Using the above list, let's take a look at the last unique SiteName: NH3. In order to get all the records matching the SiteName NH3 we will use the .loc method of the dataframe. When using the .loc method we do provide parenthesis, but instead provide square brackets to indicate the range we are interested in. Then within the square brackets we use a statement that effectively says:\n",
        "\n",
        "From our dataframe, get me each record whose SiteName column is equal to NH3."
      ]
    },
    {
      "cell_type": "code",
      "execution_count": 7,
      "metadata": {
        "colab": {
          "base_uri": "https://localhost:8080/",
          "height": 206
        },
        "id": "2QohCjYrVcU0",
        "outputId": "2067ae0f-daec-494d-b114-acd0fa56fae3"
      },
      "outputs": [
        {
          "data": {
            "text/html": [
              "<div>\n",
              "<style scoped>\n",
              "    .dataframe tbody tr th:only-of-type {\n",
              "        vertical-align: middle;\n",
              "    }\n",
              "\n",
              "    .dataframe tbody tr th {\n",
              "        vertical-align: top;\n",
              "    }\n",
              "\n",
              "    .dataframe thead th {\n",
              "        text-align: right;\n",
              "    }\n",
              "</style>\n",
              "<table border=\"1\" class=\"dataframe\">\n",
              "  <thead>\n",
              "    <tr style=\"text-align: right;\">\n",
              "      <th></th>\n",
              "      <th>SiteName</th>\n",
              "      <th>DateTimeMeas</th>\n",
              "      <th>Waterlevel</th>\n",
              "      <th>Status</th>\n",
              "    </tr>\n",
              "  </thead>\n",
              "  <tbody>\n",
              "    <tr>\n",
              "      <th>412</th>\n",
              "      <td>NH3</td>\n",
              "      <td>2019-06-12 20:00:00</td>\n",
              "      <td>13.7800</td>\n",
              "      <td>NaN</td>\n",
              "    </tr>\n",
              "    <tr>\n",
              "      <th>413</th>\n",
              "      <td>NH3</td>\n",
              "      <td>2019-06-13 08:00:00</td>\n",
              "      <td>13.8900</td>\n",
              "      <td>NaN</td>\n",
              "    </tr>\n",
              "    <tr>\n",
              "      <th>414</th>\n",
              "      <td>NH3</td>\n",
              "      <td>2019-06-13 20:00:00</td>\n",
              "      <td>13.9399</td>\n",
              "      <td>NaN</td>\n",
              "    </tr>\n",
              "    <tr>\n",
              "      <th>415</th>\n",
              "      <td>NH3</td>\n",
              "      <td>2019-06-14 08:00:00</td>\n",
              "      <td>13.9700</td>\n",
              "      <td>NaN</td>\n",
              "    </tr>\n",
              "    <tr>\n",
              "      <th>416</th>\n",
              "      <td>NH3</td>\n",
              "      <td>2019-06-14 20:00:00</td>\n",
              "      <td>13.9900</td>\n",
              "      <td>NaN</td>\n",
              "    </tr>\n",
              "  </tbody>\n",
              "</table>\n",
              "</div>"
            ],
            "text/plain": [
              "    SiteName        DateTimeMeas  Waterlevel  Status\n",
              "412      NH3 2019-06-12 20:00:00     13.7800     NaN\n",
              "413      NH3 2019-06-13 08:00:00     13.8900     NaN\n",
              "414      NH3 2019-06-13 20:00:00     13.9399     NaN\n",
              "415      NH3 2019-06-14 08:00:00     13.9700     NaN\n",
              "416      NH3 2019-06-14 20:00:00     13.9900     NaN"
            ]
          },
          "execution_count": 7,
          "metadata": {},
          "output_type": "execute_result"
        }
      ],
      "source": [
        "# If we only want to look at one borehole's data\n",
        "df_NH3 = df_wl.loc[df_wl[\"SiteName\"] == \"NH3\"]\n",
        "df_NH3.head()"
      ]
    },
    {
      "cell_type": "markdown",
      "metadata": {},
      "source": [
        "Since we are now looking at only NH3 in the new df_NH3 dataframe, we don't need that SiteName column anymore. So let us make the DateTimeMeas our new index column and get rid of the NH3 column. While we are at it we will also delete the Status column which doesn't contain any records."
      ]
    },
    {
      "cell_type": "code",
      "execution_count": 8,
      "metadata": {
        "colab": {
          "base_uri": "https://localhost:8080/",
          "height": 237
        },
        "id": "uCXQvKrNW0Dc",
        "outputId": "33fec896-75d3-40db-99da-0d0429abf880"
      },
      "outputs": [
        {
          "data": {
            "text/html": [
              "<div>\n",
              "<style scoped>\n",
              "    .dataframe tbody tr th:only-of-type {\n",
              "        vertical-align: middle;\n",
              "    }\n",
              "\n",
              "    .dataframe tbody tr th {\n",
              "        vertical-align: top;\n",
              "    }\n",
              "\n",
              "    .dataframe thead th {\n",
              "        text-align: right;\n",
              "    }\n",
              "</style>\n",
              "<table border=\"1\" class=\"dataframe\">\n",
              "  <thead>\n",
              "    <tr style=\"text-align: right;\">\n",
              "      <th></th>\n",
              "      <th>Waterlevel</th>\n",
              "    </tr>\n",
              "    <tr>\n",
              "      <th>DateTimeMeas</th>\n",
              "      <th></th>\n",
              "    </tr>\n",
              "  </thead>\n",
              "  <tbody>\n",
              "    <tr>\n",
              "      <th>2019-06-12 20:00:00</th>\n",
              "      <td>13.7800</td>\n",
              "    </tr>\n",
              "    <tr>\n",
              "      <th>2019-06-13 08:00:00</th>\n",
              "      <td>13.8900</td>\n",
              "    </tr>\n",
              "    <tr>\n",
              "      <th>2019-06-13 20:00:00</th>\n",
              "      <td>13.9399</td>\n",
              "    </tr>\n",
              "    <tr>\n",
              "      <th>2019-06-14 08:00:00</th>\n",
              "      <td>13.9700</td>\n",
              "    </tr>\n",
              "    <tr>\n",
              "      <th>2019-06-14 20:00:00</th>\n",
              "      <td>13.9900</td>\n",
              "    </tr>\n",
              "  </tbody>\n",
              "</table>\n",
              "</div>"
            ],
            "text/plain": [
              "                     Waterlevel\n",
              "DateTimeMeas                   \n",
              "2019-06-12 20:00:00     13.7800\n",
              "2019-06-13 08:00:00     13.8900\n",
              "2019-06-13 20:00:00     13.9399\n",
              "2019-06-14 08:00:00     13.9700\n",
              "2019-06-14 20:00:00     13.9900"
            ]
          },
          "execution_count": 8,
          "metadata": {},
          "output_type": "execute_result"
        }
      ],
      "source": [
        "# Let's make the DateTimeMeas the index of the table\n",
        "df_NH3.set_index(\"DateTimeMeas\", inplace=True)\n",
        "# And drop the status and sitename columns\n",
        "df_NH3 = df_NH3.drop(columns=[\"SiteName\", \"Status\"])\n",
        "df_NH3.head()"
      ]
    },
    {
      "cell_type": "markdown",
      "metadata": {},
      "source": [
        "Now that we just have the DateTimeMeas and Waterlevel columns for NH3, let's get some basic statistics for the data using the .describe() method of the dataframe:"
      ]
    },
    {
      "cell_type": "code",
      "execution_count": 9,
      "metadata": {
        "colab": {
          "base_uri": "https://localhost:8080/",
          "height": 300
        },
        "id": "A7KaBQ1yYShD",
        "outputId": "f4933287-051f-4bc7-88d5-e52921ebecb2"
      },
      "outputs": [
        {
          "data": {
            "text/html": [
              "<div>\n",
              "<style scoped>\n",
              "    .dataframe tbody tr th:only-of-type {\n",
              "        vertical-align: middle;\n",
              "    }\n",
              "\n",
              "    .dataframe tbody tr th {\n",
              "        vertical-align: top;\n",
              "    }\n",
              "\n",
              "    .dataframe thead th {\n",
              "        text-align: right;\n",
              "    }\n",
              "</style>\n",
              "<table border=\"1\" class=\"dataframe\">\n",
              "  <thead>\n",
              "    <tr style=\"text-align: right;\">\n",
              "      <th></th>\n",
              "      <th>Waterlevel</th>\n",
              "    </tr>\n",
              "  </thead>\n",
              "  <tbody>\n",
              "    <tr>\n",
              "      <th>count</th>\n",
              "      <td>278.000000</td>\n",
              "    </tr>\n",
              "    <tr>\n",
              "      <th>mean</th>\n",
              "      <td>12.604037</td>\n",
              "    </tr>\n",
              "    <tr>\n",
              "      <th>std</th>\n",
              "      <td>1.225599</td>\n",
              "    </tr>\n",
              "    <tr>\n",
              "      <th>min</th>\n",
              "      <td>10.270000</td>\n",
              "    </tr>\n",
              "    <tr>\n",
              "      <th>25%</th>\n",
              "      <td>11.424900</td>\n",
              "    </tr>\n",
              "    <tr>\n",
              "      <th>50%</th>\n",
              "      <td>12.914950</td>\n",
              "    </tr>\n",
              "    <tr>\n",
              "      <th>75%</th>\n",
              "      <td>13.770000</td>\n",
              "    </tr>\n",
              "    <tr>\n",
              "      <th>max</th>\n",
              "      <td>14.069900</td>\n",
              "    </tr>\n",
              "  </tbody>\n",
              "</table>\n",
              "</div>"
            ],
            "text/plain": [
              "       Waterlevel\n",
              "count  278.000000\n",
              "mean    12.604037\n",
              "std      1.225599\n",
              "min     10.270000\n",
              "25%     11.424900\n",
              "50%     12.914950\n",
              "75%     13.770000\n",
              "max     14.069900"
            ]
          },
          "execution_count": 9,
          "metadata": {},
          "output_type": "execute_result"
        }
      ],
      "source": [
        "# Get a description of our data\n",
        "df_NH3.describe()"
      ]
    },
    {
      "cell_type": "markdown",
      "metadata": {},
      "source": [
        "We can use these basic statistics to determine if any outliers are present and if we need to modify the data. In this case, we can see that we have 278 waterlevels, with an average waterlevel of approximately 12.6 meters below ground level. Both the maximum and minimum values appear valid. \n",
        "\n",
        "Now the best way to further explore the data would be to first plot a graph of the data. Pandas provides build-in methods to automatically plot data for us with matplotlib, let's take a look at the code:"
      ]
    },
    {
      "cell_type": "code",
      "execution_count": 10,
      "metadata": {
        "colab": {
          "base_uri": "https://localhost:8080/",
          "height": 488
        },
        "id": "HG8ZTjkRYZdW",
        "outputId": "400c110a-5b91-4a6e-da8a-7efa26ff0589"
      },
      "outputs": [
        {
          "data": {
            "image/png": "[encoded data removed]",
            "text/plain": [
              "<Figure size 640x480 with 1 Axes>"
            ]
          },
          "metadata": {},
          "output_type": "display_data"
        }
      ],
      "source": [
        "# Plot the data\n",
        "df_NH3.plot(\n",
        "    kind=\"line\",\n",
        "    color=\"red\",\n",
        "    xlabel=\"Date\",\n",
        "    ylabel=\"Water level (???)\",\n",
        "    title=\"Plot of NH3 water level\"\n",
        ")\n",
        "# Show the figure\n",
        "plt.show()"
      ]
    },
    {
      "cell_type": "markdown",
      "metadata": {},
      "source": [
        "The code to plot the figure looks a bit different when we use Pandas, let's break it down:\n",
        "- We call the .plot() method on the dataframe to plot it.\n",
        "- Additionally, we can define some parameters to customise the plot\n",
        "- With the \"kind\" property we define what kind of graph we would like.\n",
        "- The \"color\" property is self explanatory.\n",
        "- \"xlabel\" and \"ylabel\" is used to give title to the x- and y-axis respectively.\n",
        "- The \"title\" propoerty is also self explanatory.\n",
        "\n",
        "And voila, we have a graph. However, it is clear that something is wrong here. This data appears to be measuring the waterlevel from a certain datum located below the water level. In reality, this is data freshly extracted from a pressure transducer which has not been converted to meters below ground level yet. Let us correct that, the water level measured in NH3 when the pressure transducer was removed (the final reading) is 15.5 mbgl. Let's convert the data to the new datum:"
      ]
    },
    {
      "cell_type": "code",
      "execution_count": 11,
      "metadata": {
        "id": "f_HW_owGOhCY"
      },
      "outputs": [
        {
          "name": "stdout",
          "output_type": "stream",
          "text": [
            "10.400000000000091\n"
          ]
        }
      ],
      "source": [
        "# First, let us get the last water level recording from the data\n",
        "last_record = df_NH3[\"Waterlevel\"].iloc[-1]\n",
        "print(last_record)"
      ]
    },
    {
      "cell_type": "markdown",
      "metadata": {},
      "source": [
        "The process was similar to what we used before. First, we only grab the Waterlevel column from the dataset and then we get the last position by using the index locator (.iloc) method and the same indexing style we would use with a list. With this we get a water level of 10.40 meters above datum, which is then equivalent to our 15.5 mbgl measurement. This puts the installation depth of our logger at:\n",
        "\n",
        "15.5 + 10.4 = 25.9 mbgl\n",
        "\n",
        "Now we can change our data to mbgl by subtracting the recorded value from this number:"
      ]
    },
    {
      "cell_type": "code",
      "execution_count": 12,
      "metadata": {},
      "outputs": [
        {
          "data": {
            "text/html": [
              "<div>\n",
              "<style scoped>\n",
              "    .dataframe tbody tr th:only-of-type {\n",
              "        vertical-align: middle;\n",
              "    }\n",
              "\n",
              "    .dataframe tbody tr th {\n",
              "        vertical-align: top;\n",
              "    }\n",
              "\n",
              "    .dataframe thead th {\n",
              "        text-align: right;\n",
              "    }\n",
              "</style>\n",
              "<table border=\"1\" class=\"dataframe\">\n",
              "  <thead>\n",
              "    <tr style=\"text-align: right;\">\n",
              "      <th></th>\n",
              "      <th>Waterlevel</th>\n",
              "      <th>CorrWaterlevel</th>\n",
              "    </tr>\n",
              "  </thead>\n",
              "  <tbody>\n",
              "    <tr>\n",
              "      <th>count</th>\n",
              "      <td>278.000000</td>\n",
              "      <td>278.000000</td>\n",
              "    </tr>\n",
              "    <tr>\n",
              "      <th>mean</th>\n",
              "      <td>12.604037</td>\n",
              "      <td>13.295963</td>\n",
              "    </tr>\n",
              "    <tr>\n",
              "      <th>std</th>\n",
              "      <td>1.225599</td>\n",
              "      <td>1.225599</td>\n",
              "    </tr>\n",
              "    <tr>\n",
              "      <th>min</th>\n",
              "      <td>10.270000</td>\n",
              "      <td>11.830100</td>\n",
              "    </tr>\n",
              "    <tr>\n",
              "      <th>25%</th>\n",
              "      <td>11.424900</td>\n",
              "      <td>12.130000</td>\n",
              "    </tr>\n",
              "    <tr>\n",
              "      <th>50%</th>\n",
              "      <td>12.914950</td>\n",
              "      <td>12.985050</td>\n",
              "    </tr>\n",
              "    <tr>\n",
              "      <th>75%</th>\n",
              "      <td>13.770000</td>\n",
              "      <td>14.475100</td>\n",
              "    </tr>\n",
              "    <tr>\n",
              "      <th>max</th>\n",
              "      <td>14.069900</td>\n",
              "      <td>15.630000</td>\n",
              "    </tr>\n",
              "  </tbody>\n",
              "</table>\n",
              "</div>"
            ],
            "text/plain": [
              "       Waterlevel  CorrWaterlevel\n",
              "count  278.000000      278.000000\n",
              "mean    12.604037       13.295963\n",
              "std      1.225599        1.225599\n",
              "min     10.270000       11.830100\n",
              "25%     11.424900       12.130000\n",
              "50%     12.914950       12.985050\n",
              "75%     13.770000       14.475100\n",
              "max     14.069900       15.630000"
            ]
          },
          "execution_count": 12,
          "metadata": {},
          "output_type": "execute_result"
        }
      ],
      "source": [
        "df_NH3[\"CorrWaterlevel\"] = 25.9 - df_NH3[\"Waterlevel\"]\n",
        "df_NH3.describe()"
      ]
    },
    {
      "cell_type": "markdown",
      "metadata": {},
      "source": [
        "Now we can plot our data again, but since our dataframe has two data columns now we will specify that it needs to only plot the corrected waterlevel column:"
      ]
    },
    {
      "cell_type": "code",
      "execution_count": 13,
      "metadata": {},
      "outputs": [
        {
          "data": {
            "image/png": "[encoded data removed]",
            "text/plain": [
              "<Figure size 640x480 with 1 Axes>"
            ]
          },
          "metadata": {},
          "output_type": "display_data"
        }
      ],
      "source": [
        "# Plot the data\n",
        "df_NH3[\"CorrWaterlevel\"].plot(\n",
        "    kind=\"line\",\n",
        "    color=\"blue\",\n",
        "    xlabel=\"Date\",\n",
        "    ylabel=\"Water level (meters below ground level)\",\n",
        "    title=\"Plot of NH3 water level\"\n",
        ")\n",
        "# Since we are now working with mbgl, it would help visualisation to invert the y-axis\n",
        "plt.gca().invert_yaxis()\n",
        "# Show the figure\n",
        "plt.show()"
      ]
    },
    {
      "cell_type": "markdown",
      "metadata": {},
      "source": [
        "And that is exactly what we expected to see. Let us now move on to some common parts of data exploration and preparation. Anyone that has worked with real data knows how messy it can be. We will now explore some common workflows for handling data.\n",
        "\n",
        "# Data Quality Checks and Fixes\n",
        "\n",
        "First, let us open the BasicInfo sheet of the WISH database."
      ]
    },
    {
      "cell_type": "code",
      "execution_count": 14,
      "metadata": {},
      "outputs": [
        {
          "data": {
            "text/html": [
              "<div>\n",
              "<style scoped>\n",
              "    .dataframe tbody tr th:only-of-type {\n",
              "        vertical-align: middle;\n",
              "    }\n",
              "\n",
              "    .dataframe tbody tr th {\n",
              "        vertical-align: top;\n",
              "    }\n",
              "\n",
              "    .dataframe thead th {\n",
              "        text-align: right;\n",
              "    }\n",
              "</style>\n",
              "<table border=\"1\" class=\"dataframe\">\n",
              "  <thead>\n",
              "    <tr style=\"text-align: right;\">\n",
              "      <th></th>\n",
              "      <th>SiteName</th>\n",
              "      <th>SiteType</th>\n",
              "      <th>Ycoord</th>\n",
              "      <th>Xcoord</th>\n",
              "      <th>Zcoord</th>\n",
              "      <th>CollarHeight</th>\n",
              "      <th>Diameter</th>\n",
              "      <th>Depth</th>\n",
              "      <th>Sub Area</th>\n",
              "      <th>Owner</th>\n",
              "      <th>Description</th>\n",
              "    </tr>\n",
              "  </thead>\n",
              "  <tbody>\n",
              "    <tr>\n",
              "      <th>0</th>\n",
              "      <td>CH1</td>\n",
              "      <td>B</td>\n",
              "      <td>-3.221348e+06</td>\n",
              "      <td>-78915.680829</td>\n",
              "      <td>1410.72</td>\n",
              "      <td>0.21</td>\n",
              "      <td>0.085</td>\n",
              "      <td>30.0</td>\n",
              "      <td>University of the Free State</td>\n",
              "      <td>IGS</td>\n",
              "      <td>Core</td>\n",
              "    </tr>\n",
              "    <tr>\n",
              "      <th>1</th>\n",
              "      <td>CH2</td>\n",
              "      <td>B</td>\n",
              "      <td>-3.221368e+06</td>\n",
              "      <td>-78941.880733</td>\n",
              "      <td>1410.85</td>\n",
              "      <td>0.17</td>\n",
              "      <td>0.085</td>\n",
              "      <td>30.0</td>\n",
              "      <td>University of the Free State</td>\n",
              "      <td>IGS</td>\n",
              "      <td>Core</td>\n",
              "    </tr>\n",
              "    <tr>\n",
              "      <th>2</th>\n",
              "      <td>CH3</td>\n",
              "      <td>B</td>\n",
              "      <td>-3.221366e+06</td>\n",
              "      <td>-78929.960776</td>\n",
              "      <td>1410.93</td>\n",
              "      <td>0.22</td>\n",
              "      <td>0.085</td>\n",
              "      <td>30.0</td>\n",
              "      <td>University of the Free State</td>\n",
              "      <td>IGS</td>\n",
              "      <td>Core</td>\n",
              "    </tr>\n",
              "    <tr>\n",
              "      <th>3</th>\n",
              "      <td>CH4</td>\n",
              "      <td>B</td>\n",
              "      <td>-3.221401e+06</td>\n",
              "      <td>-78902.230873</td>\n",
              "      <td>1411.30</td>\n",
              "      <td>0.14</td>\n",
              "      <td>0.085</td>\n",
              "      <td>30.0</td>\n",
              "      <td>University of the Free State</td>\n",
              "      <td>IGS</td>\n",
              "      <td>Core</td>\n",
              "    </tr>\n",
              "    <tr>\n",
              "      <th>4</th>\n",
              "      <td>CH5</td>\n",
              "      <td>NaN</td>\n",
              "      <td>NaN</td>\n",
              "      <td>NaN</td>\n",
              "      <td>1410.72</td>\n",
              "      <td>NaN</td>\n",
              "      <td>NaN</td>\n",
              "      <td>NaN</td>\n",
              "      <td>NaN</td>\n",
              "      <td>NaN</td>\n",
              "      <td>NaN</td>\n",
              "    </tr>\n",
              "  </tbody>\n",
              "</table>\n",
              "</div>"
            ],
            "text/plain": [
              "  SiteName SiteType        Ycoord        Xcoord   Zcoord  CollarHeight  \\\n",
              "0      CH1        B -3.221348e+06 -78915.680829  1410.72          0.21   \n",
              "1      CH2        B -3.221368e+06 -78941.880733  1410.85          0.17   \n",
              "2      CH3        B -3.221366e+06 -78929.960776  1410.93          0.22   \n",
              "3      CH4        B -3.221401e+06 -78902.230873  1411.30          0.14   \n",
              "4      CH5      NaN           NaN           NaN  1410.72           NaN   \n",
              "\n",
              "   Diameter  Depth                      Sub Area Owner Description  \n",
              "0     0.085   30.0  University of the Free State   IGS        Core  \n",
              "1     0.085   30.0  University of the Free State   IGS        Core  \n",
              "2     0.085   30.0  University of the Free State   IGS        Core  \n",
              "3     0.085   30.0  University of the Free State   IGS        Core  \n",
              "4       NaN    NaN                           NaN   NaN         NaN  "
            ]
          },
          "execution_count": 14,
          "metadata": {},
          "output_type": "execute_result"
        }
      ],
      "source": [
        "# We can open the basic info sheet as follows\n",
        "df_basic = excel_file.parse(\"BasicInf\")\n",
        "# And take a peak at the files contents\n",
        "df_basic.head()"
      ]
    },
    {
      "cell_type": "markdown",
      "metadata": {},
      "source": [
        "Now, let us look at how to handle a common problem: duplicates in our data."
      ]
    },
    {
      "cell_type": "code",
      "execution_count": 15,
      "metadata": {},
      "outputs": [
        {
          "data": {
            "text/html": [
              "<div>\n",
              "<style scoped>\n",
              "    .dataframe tbody tr th:only-of-type {\n",
              "        vertical-align: middle;\n",
              "    }\n",
              "\n",
              "    .dataframe tbody tr th {\n",
              "        vertical-align: top;\n",
              "    }\n",
              "\n",
              "    .dataframe thead th {\n",
              "        text-align: right;\n",
              "    }\n",
              "</style>\n",
              "<table border=\"1\" class=\"dataframe\">\n",
              "  <thead>\n",
              "    <tr style=\"text-align: right;\">\n",
              "      <th></th>\n",
              "      <th>SiteName</th>\n",
              "      <th>SiteType</th>\n",
              "      <th>Ycoord</th>\n",
              "      <th>Xcoord</th>\n",
              "      <th>Zcoord</th>\n",
              "      <th>CollarHeight</th>\n",
              "      <th>Diameter</th>\n",
              "      <th>Depth</th>\n",
              "      <th>Sub Area</th>\n",
              "      <th>Owner</th>\n",
              "      <th>Description</th>\n",
              "    </tr>\n",
              "  </thead>\n",
              "  <tbody>\n",
              "    <tr>\n",
              "      <th>60</th>\n",
              "      <td>UO22</td>\n",
              "      <td>B</td>\n",
              "      <td>-3.221460e+06</td>\n",
              "      <td>-78988.210559</td>\n",
              "      <td>1413.06</td>\n",
              "      <td>0.000</td>\n",
              "      <td>0.17</td>\n",
              "      <td>34.0</td>\n",
              "      <td>University of the Free State</td>\n",
              "      <td>IGS</td>\n",
              "      <td>INSIDE WEATHER AREA</td>\n",
              "    </tr>\n",
              "    <tr>\n",
              "      <th>61</th>\n",
              "      <td>UO8</td>\n",
              "      <td>B</td>\n",
              "      <td>-3.221365e+06</td>\n",
              "      <td>-78932.498507</td>\n",
              "      <td>1410.97</td>\n",
              "      <td>0.225</td>\n",
              "      <td>0.17</td>\n",
              "      <td>41.0</td>\n",
              "      <td>University of the Free State</td>\n",
              "      <td>IGS</td>\n",
              "      <td>BLOCKED</td>\n",
              "    </tr>\n",
              "    <tr>\n",
              "      <th>62</th>\n",
              "      <td>NH2</td>\n",
              "      <td>B</td>\n",
              "      <td>-3.221377e+06</td>\n",
              "      <td>-78949.810000</td>\n",
              "      <td>1418.00</td>\n",
              "      <td>0.540</td>\n",
              "      <td>0.17</td>\n",
              "      <td>30.0</td>\n",
              "      <td>University of the Free State</td>\n",
              "      <td>IGS</td>\n",
              "      <td>2016 Honour's Drilling</td>\n",
              "    </tr>\n",
              "  </tbody>\n",
              "</table>\n",
              "</div>"
            ],
            "text/plain": [
              "   SiteName SiteType        Ycoord        Xcoord   Zcoord  CollarHeight  \\\n",
              "60     UO22        B -3.221460e+06 -78988.210559  1413.06         0.000   \n",
              "61      UO8        B -3.221365e+06 -78932.498507  1410.97         0.225   \n",
              "62      NH2        B -3.221377e+06 -78949.810000  1418.00         0.540   \n",
              "\n",
              "    Diameter  Depth                      Sub Area Owner  \\\n",
              "60      0.17   34.0  University of the Free State   IGS   \n",
              "61      0.17   41.0  University of the Free State   IGS   \n",
              "62      0.17   30.0  University of the Free State   IGS   \n",
              "\n",
              "               Description  \n",
              "60     INSIDE WEATHER AREA  \n",
              "61                 BLOCKED  \n",
              "62  2016 Honour's Drilling  "
            ]
          },
          "execution_count": 15,
          "metadata": {},
          "output_type": "execute_result"
        }
      ],
      "source": [
        "complete_duplicates = df_basic[df_basic.duplicated() == True]\n",
        "complete_duplicates"
      ]
    },
    {
      "cell_type": "markdown",
      "metadata": {},
      "source": [
        "We can remove the complete duplicates by calling the .drop_duplicates() method of the dataframe and passing no arguments."
      ]
    },
    {
      "cell_type": "code",
      "execution_count": 16,
      "metadata": {},
      "outputs": [],
      "source": [
        "# The drop duplicates method will drop all records that are complete duplicates of another one\n",
        "df_basic = df_basic.drop_duplicates()"
      ]
    },
    {
      "cell_type": "markdown",
      "metadata": {},
      "source": [
        "If we want to find all duplicates just based on a specific column then we specify that column. The \"keep\" property is usually true by default. Here we set it to False so that it shows us the duplicates and the first instance of the same name:"
      ]
    },
    {
      "cell_type": "code",
      "execution_count": 17,
      "metadata": {},
      "outputs": [
        {
          "data": {
            "text/html": [
              "<div>\n",
              "<style scoped>\n",
              "    .dataframe tbody tr th:only-of-type {\n",
              "        vertical-align: middle;\n",
              "    }\n",
              "\n",
              "    .dataframe tbody tr th {\n",
              "        vertical-align: top;\n",
              "    }\n",
              "\n",
              "    .dataframe thead th {\n",
              "        text-align: right;\n",
              "    }\n",
              "</style>\n",
              "<table border=\"1\" class=\"dataframe\">\n",
              "  <thead>\n",
              "    <tr style=\"text-align: right;\">\n",
              "      <th></th>\n",
              "      <th>SiteName</th>\n",
              "      <th>SiteType</th>\n",
              "      <th>Ycoord</th>\n",
              "      <th>Xcoord</th>\n",
              "      <th>Zcoord</th>\n",
              "      <th>CollarHeight</th>\n",
              "      <th>Diameter</th>\n",
              "      <th>Depth</th>\n",
              "      <th>Sub Area</th>\n",
              "      <th>Owner</th>\n",
              "      <th>Description</th>\n",
              "    </tr>\n",
              "  </thead>\n",
              "  <tbody>\n",
              "    <tr>\n",
              "      <th>42</th>\n",
              "      <td>D1</td>\n",
              "      <td>B</td>\n",
              "      <td>-3.221439e+06</td>\n",
              "      <td>-79003.068507</td>\n",
              "      <td>1413.224</td>\n",
              "      <td>0.0</td>\n",
              "      <td>0.17</td>\n",
              "      <td>23.5</td>\n",
              "      <td>University of the Free State</td>\n",
              "      <td>IGS</td>\n",
              "      <td>Destroyed?</td>\n",
              "    </tr>\n",
              "    <tr>\n",
              "      <th>43</th>\n",
              "      <td>D2</td>\n",
              "      <td>B</td>\n",
              "      <td>-3.221434e+06</td>\n",
              "      <td>-79001.622512</td>\n",
              "      <td>1413.090</td>\n",
              "      <td>0.0</td>\n",
              "      <td>0.17</td>\n",
              "      <td>23.0</td>\n",
              "      <td>University of the Free State</td>\n",
              "      <td>IGS</td>\n",
              "      <td>NaN</td>\n",
              "    </tr>\n",
              "    <tr>\n",
              "      <th>44</th>\n",
              "      <td>D3</td>\n",
              "      <td>B</td>\n",
              "      <td>-3.221434e+06</td>\n",
              "      <td>-79003.978504</td>\n",
              "      <td>1413.203</td>\n",
              "      <td>0.0</td>\n",
              "      <td>0.17</td>\n",
              "      <td>23.0</td>\n",
              "      <td>University of the Free State</td>\n",
              "      <td>IGS</td>\n",
              "      <td>NaN</td>\n",
              "    </tr>\n",
              "    <tr>\n",
              "      <th>45</th>\n",
              "      <td>D4</td>\n",
              "      <td>B</td>\n",
              "      <td>-3.221435e+06</td>\n",
              "      <td>-78999.131521</td>\n",
              "      <td>1413.027</td>\n",
              "      <td>0.0</td>\n",
              "      <td>0.17</td>\n",
              "      <td>23.0</td>\n",
              "      <td>University of the Free State</td>\n",
              "      <td>IGS</td>\n",
              "      <td>BLOCKED</td>\n",
              "    </tr>\n",
              "    <tr>\n",
              "      <th>63</th>\n",
              "      <td>D1</td>\n",
              "      <td>B</td>\n",
              "      <td>-3.221439e+06</td>\n",
              "      <td>-79003.060000</td>\n",
              "      <td>1413.200</td>\n",
              "      <td>NaN</td>\n",
              "      <td>0.17</td>\n",
              "      <td>23.5</td>\n",
              "      <td>University of the Free State</td>\n",
              "      <td>IGS</td>\n",
              "      <td>NaN</td>\n",
              "    </tr>\n",
              "    <tr>\n",
              "      <th>64</th>\n",
              "      <td>D2</td>\n",
              "      <td>B</td>\n",
              "      <td>-3.221434e+06</td>\n",
              "      <td>-79001.610000</td>\n",
              "      <td>1413.100</td>\n",
              "      <td>NaN</td>\n",
              "      <td>0.17</td>\n",
              "      <td>23.0</td>\n",
              "      <td>University of the Free State</td>\n",
              "      <td>IGS</td>\n",
              "      <td>NaN</td>\n",
              "    </tr>\n",
              "    <tr>\n",
              "      <th>65</th>\n",
              "      <td>D3</td>\n",
              "      <td>B</td>\n",
              "      <td>-3.221434e+06</td>\n",
              "      <td>-79003.963000</td>\n",
              "      <td>1413.200</td>\n",
              "      <td>NaN</td>\n",
              "      <td>0.17</td>\n",
              "      <td>23.0</td>\n",
              "      <td>University of the Free State</td>\n",
              "      <td>IGS</td>\n",
              "      <td>NaN</td>\n",
              "    </tr>\n",
              "    <tr>\n",
              "      <th>66</th>\n",
              "      <td>D4</td>\n",
              "      <td>B</td>\n",
              "      <td>-3.221435e+06</td>\n",
              "      <td>-78999.130000</td>\n",
              "      <td>1413.020</td>\n",
              "      <td>NaN</td>\n",
              "      <td>0.17</td>\n",
              "      <td>23.0</td>\n",
              "      <td>University of the Free State</td>\n",
              "      <td>IGS</td>\n",
              "      <td>NaN</td>\n",
              "    </tr>\n",
              "  </tbody>\n",
              "</table>\n",
              "</div>"
            ],
            "text/plain": [
              "   SiteName SiteType        Ycoord        Xcoord    Zcoord  CollarHeight  \\\n",
              "42       D1        B -3.221439e+06 -79003.068507  1413.224           0.0   \n",
              "43       D2        B -3.221434e+06 -79001.622512  1413.090           0.0   \n",
              "44       D3        B -3.221434e+06 -79003.978504  1413.203           0.0   \n",
              "45       D4        B -3.221435e+06 -78999.131521  1413.027           0.0   \n",
              "63       D1        B -3.221439e+06 -79003.060000  1413.200           NaN   \n",
              "64       D2        B -3.221434e+06 -79001.610000  1413.100           NaN   \n",
              "65       D3        B -3.221434e+06 -79003.963000  1413.200           NaN   \n",
              "66       D4        B -3.221435e+06 -78999.130000  1413.020           NaN   \n",
              "\n",
              "    Diameter  Depth                      Sub Area Owner Description  \n",
              "42      0.17   23.5  University of the Free State   IGS  Destroyed?  \n",
              "43      0.17   23.0  University of the Free State   IGS         NaN  \n",
              "44      0.17   23.0  University of the Free State   IGS         NaN  \n",
              "45      0.17   23.0  University of the Free State   IGS     BLOCKED  \n",
              "63      0.17   23.5  University of the Free State   IGS         NaN  \n",
              "64      0.17   23.0  University of the Free State   IGS         NaN  \n",
              "65      0.17   23.0  University of the Free State   IGS         NaN  \n",
              "66      0.17   23.0  University of the Free State   IGS         NaN  "
            ]
          },
          "execution_count": 17,
          "metadata": {},
          "output_type": "execute_result"
        }
      ],
      "source": [
        "duplicate_names = df_basic[df_basic.duplicated('SiteName', keep=False) == True]\n",
        "duplicate_names"
      ]
    },
    {
      "cell_type": "markdown",
      "metadata": {},
      "source": [
        "It's clear that the duplicates which are the second instance of the name has the same values, just at a lower accuracy than the first instances. So we will drop the second instances using the .drop_duplicates() method and passing the column that we would like to be checked. Note that 'keep' property is now kept at its default value, which will keep the first instance of a SiteName but remove and duplicates following it."
      ]
    },
    {
      "cell_type": "code",
      "execution_count": 18,
      "metadata": {},
      "outputs": [],
      "source": [
        "df_basic = df_basic.drop_duplicates('SiteName')"
      ]
    },
    {
      "cell_type": "markdown",
      "metadata": {},
      "source": [
        "Now, let's look at some information regarding our dataframe:"
      ]
    },
    {
      "cell_type": "code",
      "execution_count": 19,
      "metadata": {},
      "outputs": [
        {
          "name": "stdout",
          "output_type": "stream",
          "text": [
            "<class 'pandas.core.frame.DataFrame'>\n",
            "Index: 60 entries, 0 to 59\n",
            "Data columns (total 11 columns):\n",
            " #   Column        Non-Null Count  Dtype  \n",
            "---  ------        --------------  -----  \n",
            " 0   SiteName      60 non-null     object \n",
            " 1   SiteType      57 non-null     object \n",
            " 2   Ycoord        57 non-null     float64\n",
            " 3   Xcoord        57 non-null     float64\n",
            " 4   Zcoord        60 non-null     float64\n",
            " 5   CollarHeight  57 non-null     float64\n",
            " 6   Diameter      46 non-null     float64\n",
            " 7   Depth         43 non-null     float64\n",
            " 8   Sub Area      57 non-null     object \n",
            " 9   Owner         55 non-null     object \n",
            " 10  Description   42 non-null     object \n",
            "dtypes: float64(6), object(5)\n",
            "memory usage: 5.6+ KB\n"
          ]
        }
      ],
      "source": [
        "df_basic.info()"
      ]
    },
    {
      "cell_type": "markdown",
      "metadata": {},
      "source": [
        "Next, let's drop the records where Xcoord or Ycoord is missing. But first, we'll make a dataframe listing those values so that we can send it to our client for feedback."
      ]
    },
    {
      "cell_type": "code",
      "execution_count": 20,
      "metadata": {},
      "outputs": [
        {
          "name": "stderr",
          "output_type": "stream",
          "text": [
            "<>:2: SyntaxWarning: invalid escape sequence '\\o'\n",
            "<>:2: SyntaxWarning: invalid escape sequence '\\o'\n",
            "C:\\Users\\Anton\\AppData\\Local\\Temp\\ipykernel_140312\\4264476793.py:2: SyntaxWarning: invalid escape sequence '\\o'\n",
            "  df_missing_coords.to_excel('.\\output\\missing_coordinates.xlsx')  # Show how to fix the warning\n"
          ]
        },
        {
          "data": {
            "text/html": [
              "<div>\n",
              "<style scoped>\n",
              "    .dataframe tbody tr th:only-of-type {\n",
              "        vertical-align: middle;\n",
              "    }\n",
              "\n",
              "    .dataframe tbody tr th {\n",
              "        vertical-align: top;\n",
              "    }\n",
              "\n",
              "    .dataframe thead th {\n",
              "        text-align: right;\n",
              "    }\n",
              "</style>\n",
              "<table border=\"1\" class=\"dataframe\">\n",
              "  <thead>\n",
              "    <tr style=\"text-align: right;\">\n",
              "      <th></th>\n",
              "      <th>SiteName</th>\n",
              "      <th>SiteType</th>\n",
              "      <th>Ycoord</th>\n",
              "      <th>Xcoord</th>\n",
              "      <th>Zcoord</th>\n",
              "      <th>CollarHeight</th>\n",
              "      <th>Diameter</th>\n",
              "      <th>Depth</th>\n",
              "      <th>Sub Area</th>\n",
              "      <th>Owner</th>\n",
              "      <th>Description</th>\n",
              "    </tr>\n",
              "  </thead>\n",
              "  <tbody>\n",
              "    <tr>\n",
              "      <th>4</th>\n",
              "      <td>CH5</td>\n",
              "      <td>NaN</td>\n",
              "      <td>NaN</td>\n",
              "      <td>NaN</td>\n",
              "      <td>1410.72</td>\n",
              "      <td>NaN</td>\n",
              "      <td>NaN</td>\n",
              "      <td>NaN</td>\n",
              "      <td>NaN</td>\n",
              "      <td>NaN</td>\n",
              "      <td>NaN</td>\n",
              "    </tr>\n",
              "    <tr>\n",
              "      <th>5</th>\n",
              "      <td>CH6</td>\n",
              "      <td>NaN</td>\n",
              "      <td>NaN</td>\n",
              "      <td>NaN</td>\n",
              "      <td>1411.03</td>\n",
              "      <td>NaN</td>\n",
              "      <td>NaN</td>\n",
              "      <td>NaN</td>\n",
              "      <td>NaN</td>\n",
              "      <td>NaN</td>\n",
              "      <td>NaN</td>\n",
              "    </tr>\n",
              "    <tr>\n",
              "      <th>6</th>\n",
              "      <td>CH7</td>\n",
              "      <td>NaN</td>\n",
              "      <td>NaN</td>\n",
              "      <td>NaN</td>\n",
              "      <td>1413.26</td>\n",
              "      <td>NaN</td>\n",
              "      <td>NaN</td>\n",
              "      <td>NaN</td>\n",
              "      <td>NaN</td>\n",
              "      <td>NaN</td>\n",
              "      <td>NaN</td>\n",
              "    </tr>\n",
              "  </tbody>\n",
              "</table>\n",
              "</div>"
            ],
            "text/plain": [
              "  SiteName SiteType  Ycoord  Xcoord   Zcoord  CollarHeight  Diameter  Depth  \\\n",
              "4      CH5      NaN     NaN     NaN  1410.72           NaN       NaN    NaN   \n",
              "5      CH6      NaN     NaN     NaN  1411.03           NaN       NaN    NaN   \n",
              "6      CH7      NaN     NaN     NaN  1413.26           NaN       NaN    NaN   \n",
              "\n",
              "  Sub Area Owner Description  \n",
              "4      NaN   NaN         NaN  \n",
              "5      NaN   NaN         NaN  \n",
              "6      NaN   NaN         NaN  "
            ]
          },
          "execution_count": 20,
          "metadata": {},
          "output_type": "execute_result"
        }
      ],
      "source": [
        "df_missing_coords = df_basic[df_basic['Xcoord'].isna() | df_basic['Ycoord'].isna()]\n",
        "df_missing_coords.to_excel('.\\output\\missing_coordinates.xlsx')  # Show how to fix the warning\n",
        "df_missing_coords"
      ]
    },
    {
      "cell_type": "code",
      "execution_count": 21,
      "metadata": {},
      "outputs": [
        {
          "name": "stdout",
          "output_type": "stream",
          "text": [
            "<class 'pandas.core.frame.DataFrame'>\n",
            "Index: 57 entries, 0 to 59\n",
            "Data columns (total 11 columns):\n",
            " #   Column        Non-Null Count  Dtype  \n",
            "---  ------        --------------  -----  \n",
            " 0   SiteName      57 non-null     object \n",
            " 1   SiteType      57 non-null     object \n",
            " 2   Ycoord        57 non-null     float64\n",
            " 3   Xcoord        57 non-null     float64\n",
            " 4   Zcoord        57 non-null     float64\n",
            " 5   CollarHeight  57 non-null     float64\n",
            " 6   Diameter      46 non-null     float64\n",
            " 7   Depth         43 non-null     float64\n",
            " 8   Sub Area      57 non-null     object \n",
            " 9   Owner         55 non-null     object \n",
            " 10  Description   42 non-null     object \n",
            "dtypes: float64(6), object(5)\n",
            "memory usage: 5.3+ KB\n"
          ]
        }
      ],
      "source": [
        "df_basic = df_basic.dropna(subset=['Xcoord', 'Ycoord'])\n",
        "df_basic.info()"
      ]
    },
    {
      "cell_type": "markdown",
      "metadata": {},
      "source": [
        "That problem is solved, let's look at some statistics of the dataaset:"
      ]
    },
    {
      "cell_type": "code",
      "execution_count": 22,
      "metadata": {},
      "outputs": [
        {
          "data": {
            "text/html": [
              "<div>\n",
              "<style scoped>\n",
              "    .dataframe tbody tr th:only-of-type {\n",
              "        vertical-align: middle;\n",
              "    }\n",
              "\n",
              "    .dataframe tbody tr th {\n",
              "        vertical-align: top;\n",
              "    }\n",
              "\n",
              "    .dataframe thead th {\n",
              "        text-align: right;\n",
              "    }\n",
              "</style>\n",
              "<table border=\"1\" class=\"dataframe\">\n",
              "  <thead>\n",
              "    <tr style=\"text-align: right;\">\n",
              "      <th></th>\n",
              "      <th>Ycoord</th>\n",
              "      <th>Xcoord</th>\n",
              "      <th>Zcoord</th>\n",
              "      <th>CollarHeight</th>\n",
              "      <th>Diameter</th>\n",
              "      <th>Depth</th>\n",
              "    </tr>\n",
              "  </thead>\n",
              "  <tbody>\n",
              "    <tr>\n",
              "      <th>count</th>\n",
              "      <td>5.700000e+01</td>\n",
              "      <td>5.700000e+01</td>\n",
              "      <td>57.000000</td>\n",
              "      <td>57.000000</td>\n",
              "      <td>46.000000</td>\n",
              "      <td>43.000000</td>\n",
              "    </tr>\n",
              "    <tr>\n",
              "      <th>mean</th>\n",
              "      <td>-3.111128e+06</td>\n",
              "      <td>-1.892072e+05</td>\n",
              "      <td>1411.856491</td>\n",
              "      <td>0.194351</td>\n",
              "      <td>0.162609</td>\n",
              "      <td>44.397674</td>\n",
              "    </tr>\n",
              "    <tr>\n",
              "      <th>std</th>\n",
              "      <td>5.833473e+05</td>\n",
              "      <td>5.833500e+05</td>\n",
              "      <td>1.303370</td>\n",
              "      <td>0.143250</td>\n",
              "      <td>0.024215</td>\n",
              "      <td>90.073971</td>\n",
              "    </tr>\n",
              "    <tr>\n",
              "      <th>min</th>\n",
              "      <td>-3.221461e+06</td>\n",
              "      <td>-3.221388e+06</td>\n",
              "      <td>1410.420000</td>\n",
              "      <td>0.000000</td>\n",
              "      <td>0.085000</td>\n",
              "      <td>-41.000000</td>\n",
              "    </tr>\n",
              "    <tr>\n",
              "      <th>25%</th>\n",
              "      <td>-3.221397e+06</td>\n",
              "      <td>-7.897098e+04</td>\n",
              "      <td>1410.970000</td>\n",
              "      <td>0.000000</td>\n",
              "      <td>0.170000</td>\n",
              "      <td>24.750000</td>\n",
              "    </tr>\n",
              "    <tr>\n",
              "      <th>50%</th>\n",
              "      <td>-3.221376e+06</td>\n",
              "      <td>-7.893636e+04</td>\n",
              "      <td>1411.459000</td>\n",
              "      <td>0.220000</td>\n",
              "      <td>0.170000</td>\n",
              "      <td>30.000000</td>\n",
              "    </tr>\n",
              "    <tr>\n",
              "      <th>75%</th>\n",
              "      <td>-3.221367e+06</td>\n",
              "      <td>-7.892727e+04</td>\n",
              "      <td>1412.830000</td>\n",
              "      <td>0.265000</td>\n",
              "      <td>0.170000</td>\n",
              "      <td>41.000000</td>\n",
              "    </tr>\n",
              "    <tr>\n",
              "      <th>max</th>\n",
              "      <td>-7.893296e+04</td>\n",
              "      <td>-7.887923e+04</td>\n",
              "      <td>1418.000000</td>\n",
              "      <td>0.540000</td>\n",
              "      <td>0.170000</td>\n",
              "      <td>613.000000</td>\n",
              "    </tr>\n",
              "  </tbody>\n",
              "</table>\n",
              "</div>"
            ],
            "text/plain": [
              "             Ycoord        Xcoord       Zcoord  CollarHeight   Diameter  \\\n",
              "count  5.700000e+01  5.700000e+01    57.000000     57.000000  46.000000   \n",
              "mean  -3.111128e+06 -1.892072e+05  1411.856491      0.194351   0.162609   \n",
              "std    5.833473e+05  5.833500e+05     1.303370      0.143250   0.024215   \n",
              "min   -3.221461e+06 -3.221388e+06  1410.420000      0.000000   0.085000   \n",
              "25%   -3.221397e+06 -7.897098e+04  1410.970000      0.000000   0.170000   \n",
              "50%   -3.221376e+06 -7.893636e+04  1411.459000      0.220000   0.170000   \n",
              "75%   -3.221367e+06 -7.892727e+04  1412.830000      0.265000   0.170000   \n",
              "max   -7.893296e+04 -7.887923e+04  1418.000000      0.540000   0.170000   \n",
              "\n",
              "            Depth  \n",
              "count   43.000000  \n",
              "mean    44.397674  \n",
              "std     90.073971  \n",
              "min    -41.000000  \n",
              "25%     24.750000  \n",
              "50%     30.000000  \n",
              "75%     41.000000  \n",
              "max    613.000000  "
            ]
          },
          "execution_count": 22,
          "metadata": {},
          "output_type": "execute_result"
        }
      ],
      "source": [
        "df_basic.describe()"
      ]
    },
    {
      "cell_type": "markdown",
      "metadata": {},
      "source": [
        "From the statistics we can see we have some coordinates which have been swapped around. Let's fix that:"
      ]
    },
    {
      "cell_type": "code",
      "execution_count": 23,
      "metadata": {},
      "outputs": [
        {
          "data": {
            "text/html": [
              "<div>\n",
              "<style scoped>\n",
              "    .dataframe tbody tr th:only-of-type {\n",
              "        vertical-align: middle;\n",
              "    }\n",
              "\n",
              "    .dataframe tbody tr th {\n",
              "        vertical-align: top;\n",
              "    }\n",
              "\n",
              "    .dataframe thead th {\n",
              "        text-align: right;\n",
              "    }\n",
              "</style>\n",
              "<table border=\"1\" class=\"dataframe\">\n",
              "  <thead>\n",
              "    <tr style=\"text-align: right;\">\n",
              "      <th></th>\n",
              "      <th>SiteName</th>\n",
              "      <th>SiteType</th>\n",
              "      <th>Ycoord</th>\n",
              "      <th>Xcoord</th>\n",
              "      <th>Zcoord</th>\n",
              "      <th>CollarHeight</th>\n",
              "      <th>Diameter</th>\n",
              "      <th>Depth</th>\n",
              "      <th>Sub Area</th>\n",
              "      <th>Owner</th>\n",
              "      <th>Description</th>\n",
              "    </tr>\n",
              "  </thead>\n",
              "  <tbody>\n",
              "    <tr>\n",
              "      <th>21</th>\n",
              "      <td>UO21</td>\n",
              "      <td>B</td>\n",
              "      <td>-79030.730415</td>\n",
              "      <td>-3.221346e+06</td>\n",
              "      <td>1411.46</td>\n",
              "      <td>0.00</td>\n",
              "      <td>0.17</td>\n",
              "      <td>38.0</td>\n",
              "      <td>University of the Free State</td>\n",
              "      <td>IGS</td>\n",
              "      <td>DESTROYED</td>\n",
              "    </tr>\n",
              "    <tr>\n",
              "      <th>38</th>\n",
              "      <td>UP15</td>\n",
              "      <td>B</td>\n",
              "      <td>-78932.960763</td>\n",
              "      <td>-3.221388e+06</td>\n",
              "      <td>1411.41</td>\n",
              "      <td>0.17</td>\n",
              "      <td>0.17</td>\n",
              "      <td>41.0</td>\n",
              "      <td>University of the Free State</td>\n",
              "      <td>IGS</td>\n",
              "      <td>NaN</td>\n",
              "    </tr>\n",
              "  </tbody>\n",
              "</table>\n",
              "</div>"
            ],
            "text/plain": [
              "   SiteName SiteType        Ycoord        Xcoord   Zcoord  CollarHeight  \\\n",
              "21     UO21        B -79030.730415 -3.221346e+06  1411.46          0.00   \n",
              "38     UP15        B -78932.960763 -3.221388e+06  1411.41          0.17   \n",
              "\n",
              "    Diameter  Depth                      Sub Area Owner Description  \n",
              "21      0.17   38.0  University of the Free State   IGS   DESTROYED  \n",
              "38      0.17   41.0  University of the Free State   IGS         NaN  "
            ]
          },
          "execution_count": 23,
          "metadata": {},
          "output_type": "execute_result"
        }
      ],
      "source": [
        "swapped = df_basic[df_basic['Xcoord'] < -1000000]  # assuming Y will be a larger negative value than X\n",
        "swapped"
      ]
    },
    {
      "cell_type": "markdown",
      "metadata": {},
      "source": [
        "Now that we know which two records have the problems, we can swap their coordinates around:"
      ]
    },
    {
      "cell_type": "code",
      "execution_count": 24,
      "metadata": {},
      "outputs": [
        {
          "data": {
            "text/html": [
              "<div>\n",
              "<style scoped>\n",
              "    .dataframe tbody tr th:only-of-type {\n",
              "        vertical-align: middle;\n",
              "    }\n",
              "\n",
              "    .dataframe tbody tr th {\n",
              "        vertical-align: top;\n",
              "    }\n",
              "\n",
              "    .dataframe thead th {\n",
              "        text-align: right;\n",
              "    }\n",
              "</style>\n",
              "<table border=\"1\" class=\"dataframe\">\n",
              "  <thead>\n",
              "    <tr style=\"text-align: right;\">\n",
              "      <th></th>\n",
              "      <th>Ycoord</th>\n",
              "      <th>Xcoord</th>\n",
              "      <th>Zcoord</th>\n",
              "      <th>CollarHeight</th>\n",
              "      <th>Diameter</th>\n",
              "      <th>Depth</th>\n",
              "    </tr>\n",
              "  </thead>\n",
              "  <tbody>\n",
              "    <tr>\n",
              "      <th>count</th>\n",
              "      <td>5.700000e+01</td>\n",
              "      <td>57.000000</td>\n",
              "      <td>57.000000</td>\n",
              "      <td>57.000000</td>\n",
              "      <td>46.000000</td>\n",
              "      <td>43.000000</td>\n",
              "    </tr>\n",
              "    <tr>\n",
              "      <th>mean</th>\n",
              "      <td>-3.221387e+06</td>\n",
              "      <td>-78948.025221</td>\n",
              "      <td>1411.856491</td>\n",
              "      <td>0.194351</td>\n",
              "      <td>0.162609</td>\n",
              "      <td>44.397674</td>\n",
              "    </tr>\n",
              "    <tr>\n",
              "      <th>std</th>\n",
              "      <td>2.991187e+01</td>\n",
              "      <td>34.325033</td>\n",
              "      <td>1.303370</td>\n",
              "      <td>0.143250</td>\n",
              "      <td>0.024215</td>\n",
              "      <td>90.073971</td>\n",
              "    </tr>\n",
              "    <tr>\n",
              "      <th>min</th>\n",
              "      <td>-3.221461e+06</td>\n",
              "      <td>-79030.730415</td>\n",
              "      <td>1410.420000</td>\n",
              "      <td>0.000000</td>\n",
              "      <td>0.085000</td>\n",
              "      <td>-41.000000</td>\n",
              "    </tr>\n",
              "    <tr>\n",
              "      <th>25%</th>\n",
              "      <td>-3.221397e+06</td>\n",
              "      <td>-78970.984699</td>\n",
              "      <td>1410.970000</td>\n",
              "      <td>0.000000</td>\n",
              "      <td>0.170000</td>\n",
              "      <td>24.750000</td>\n",
              "    </tr>\n",
              "    <tr>\n",
              "      <th>50%</th>\n",
              "      <td>-3.221376e+06</td>\n",
              "      <td>-78936.363752</td>\n",
              "      <td>1411.459000</td>\n",
              "      <td>0.220000</td>\n",
              "      <td>0.170000</td>\n",
              "      <td>30.000000</td>\n",
              "    </tr>\n",
              "    <tr>\n",
              "      <th>75%</th>\n",
              "      <td>-3.221368e+06</td>\n",
              "      <td>-78927.270786</td>\n",
              "      <td>1412.830000</td>\n",
              "      <td>0.265000</td>\n",
              "      <td>0.170000</td>\n",
              "      <td>41.000000</td>\n",
              "    </tr>\n",
              "    <tr>\n",
              "      <th>max</th>\n",
              "      <td>-3.221340e+06</td>\n",
              "      <td>-78879.230959</td>\n",
              "      <td>1418.000000</td>\n",
              "      <td>0.540000</td>\n",
              "      <td>0.170000</td>\n",
              "      <td>613.000000</td>\n",
              "    </tr>\n",
              "  </tbody>\n",
              "</table>\n",
              "</div>"
            ],
            "text/plain": [
              "             Ycoord        Xcoord       Zcoord  CollarHeight   Diameter  \\\n",
              "count  5.700000e+01     57.000000    57.000000     57.000000  46.000000   \n",
              "mean  -3.221387e+06 -78948.025221  1411.856491      0.194351   0.162609   \n",
              "std    2.991187e+01     34.325033     1.303370      0.143250   0.024215   \n",
              "min   -3.221461e+06 -79030.730415  1410.420000      0.000000   0.085000   \n",
              "25%   -3.221397e+06 -78970.984699  1410.970000      0.000000   0.170000   \n",
              "50%   -3.221376e+06 -78936.363752  1411.459000      0.220000   0.170000   \n",
              "75%   -3.221368e+06 -78927.270786  1412.830000      0.265000   0.170000   \n",
              "max   -3.221340e+06 -78879.230959  1418.000000      0.540000   0.170000   \n",
              "\n",
              "            Depth  \n",
              "count   43.000000  \n",
              "mean    44.397674  \n",
              "std     90.073971  \n",
              "min    -41.000000  \n",
              "25%     24.750000  \n",
              "50%     30.000000  \n",
              "75%     41.000000  \n",
              "max    613.000000  "
            ]
          },
          "execution_count": 24,
          "metadata": {},
          "output_type": "execute_result"
        }
      ],
      "source": [
        "x_coord_UO21 = df_basic.loc[df_basic['SiteName'] == 'UO21']['Ycoord'].iloc[0]\n",
        "y_coord_UO21 = df_basic.loc[df_basic['SiteName'] == 'UO21']['Xcoord'].iloc[0]\n",
        "\n",
        "df_basic.loc[df_basic['SiteName'] == 'UO21', 'Xcoord'] = x_coord_UO21\n",
        "df_basic.loc[df_basic['SiteName'] == 'UO21', 'Ycoord'] = y_coord_UO21\n",
        "\n",
        "x_coord_UP15 = df_basic.loc[df_basic['SiteName'] == 'UP15']['Ycoord'].iloc[0]\n",
        "y_coord_UP15 = df_basic.loc[df_basic['SiteName'] == 'UP15']['Xcoord'].iloc[0]\n",
        "\n",
        "df_basic.loc[df_basic['SiteName'] == 'UP15', 'Xcoord'] = x_coord_UP15\n",
        "df_basic.loc[df_basic['SiteName'] == 'UP15', 'Ycoord'] = y_coord_UP15\n",
        "\n",
        "df_basic.describe()"
      ]
    },
    {
      "cell_type": "markdown",
      "metadata": {},
      "source": [
        "We can see we also have some problems in the Depth column. Let's look for unrealistic depth values and put them in a dataframe to send to our client:"
      ]
    },
    {
      "cell_type": "code",
      "execution_count": 25,
      "metadata": {},
      "outputs": [
        {
          "data": {
            "text/html": [
              "<div>\n",
              "<style scoped>\n",
              "    .dataframe tbody tr th:only-of-type {\n",
              "        vertical-align: middle;\n",
              "    }\n",
              "\n",
              "    .dataframe tbody tr th {\n",
              "        vertical-align: top;\n",
              "    }\n",
              "\n",
              "    .dataframe thead th {\n",
              "        text-align: right;\n",
              "    }\n",
              "</style>\n",
              "<table border=\"1\" class=\"dataframe\">\n",
              "  <thead>\n",
              "    <tr style=\"text-align: right;\">\n",
              "      <th></th>\n",
              "      <th>SiteName</th>\n",
              "      <th>SiteType</th>\n",
              "      <th>Ycoord</th>\n",
              "      <th>Xcoord</th>\n",
              "      <th>Zcoord</th>\n",
              "      <th>CollarHeight</th>\n",
              "      <th>Diameter</th>\n",
              "      <th>Depth</th>\n",
              "      <th>Sub Area</th>\n",
              "      <th>Owner</th>\n",
              "      <th>Description</th>\n",
              "    </tr>\n",
              "  </thead>\n",
              "  <tbody>\n",
              "    <tr>\n",
              "      <th>16</th>\n",
              "      <td>UO18P1</td>\n",
              "      <td>B</td>\n",
              "      <td>-3.221376e+06</td>\n",
              "      <td>-78909.930847</td>\n",
              "      <td>1410.69</td>\n",
              "      <td>0.395</td>\n",
              "      <td>0.17</td>\n",
              "      <td>613.0</td>\n",
              "      <td>University of the Free State</td>\n",
              "      <td>IGS</td>\n",
              "      <td>2X PIEZOMETERS</td>\n",
              "    </tr>\n",
              "    <tr>\n",
              "      <th>33</th>\n",
              "      <td>UO5</td>\n",
              "      <td>B</td>\n",
              "      <td>-3.221367e+06</td>\n",
              "      <td>-78927.697784</td>\n",
              "      <td>1410.93</td>\n",
              "      <td>0.215</td>\n",
              "      <td>0.17</td>\n",
              "      <td>-41.0</td>\n",
              "      <td>University of the Free State</td>\n",
              "      <td>IGS</td>\n",
              "      <td>NaN</td>\n",
              "    </tr>\n",
              "  </tbody>\n",
              "</table>\n",
              "</div>"
            ],
            "text/plain": [
              "   SiteName SiteType        Ycoord        Xcoord   Zcoord  CollarHeight  \\\n",
              "16   UO18P1        B -3.221376e+06 -78909.930847  1410.69         0.395   \n",
              "33      UO5        B -3.221367e+06 -78927.697784  1410.93         0.215   \n",
              "\n",
              "    Diameter  Depth                      Sub Area Owner     Description  \n",
              "16      0.17  613.0  University of the Free State   IGS  2X PIEZOMETERS  \n",
              "33      0.17  -41.0  University of the Free State   IGS             NaN  "
            ]
          },
          "execution_count": 25,
          "metadata": {},
          "output_type": "execute_result"
        }
      ],
      "source": [
        "df_invalid_depth = df_basic[(df_basic['Depth'] < 0) | (df_basic['Depth'] > 500)]\n",
        "df_invalid_depth.to_excel(r'.\\output\\invalid_depth.xlsx')\n",
        "df_invalid_depth"
      ]
    },
    {
      "cell_type": "markdown",
      "metadata": {},
      "source": [
        "And that concludes our examples for DataFrames and Pandas. Now let's start practicing:"
      ]
    },
    {
      "cell_type": "markdown",
      "metadata": {},
      "source": [
        "# DataFrame Exercise:\n",
        "\n",
        "Prepare and clean the borehole database provided in the file \"borehole_data.csv\". A few of the problems we discussed today is present in the database. With the help of the examples above prepare the database for use. The file is loaded for you in the cell below. Add as many cells as you wish to complete this exercise."
      ]
    },
    {
      "cell_type": "code",
      "execution_count": 26,
      "metadata": {},
      "outputs": [
        {
          "data": {
            "text/html": [
              "<div>\n",
              "<style scoped>\n",
              "    .dataframe tbody tr th:only-of-type {\n",
              "        vertical-align: middle;\n",
              "    }\n",
              "\n",
              "    .dataframe tbody tr th {\n",
              "        vertical-align: top;\n",
              "    }\n",
              "\n",
              "    .dataframe thead th {\n",
              "        text-align: right;\n",
              "    }\n",
              "</style>\n",
              "<table border=\"1\" class=\"dataframe\">\n",
              "  <thead>\n",
              "    <tr style=\"text-align: right;\">\n",
              "      <th></th>\n",
              "      <th>BoreholeName</th>\n",
              "      <th>Xcoord</th>\n",
              "      <th>Ycoord</th>\n",
              "      <th>Zcoord</th>\n",
              "      <th>StaticWaterLevel</th>\n",
              "      <th>Collar</th>\n",
              "    </tr>\n",
              "  </thead>\n",
              "  <tbody>\n",
              "    <tr>\n",
              "      <th>0</th>\n",
              "      <td>BH001</td>\n",
              "      <td>345678</td>\n",
              "      <td>765432.0</td>\n",
              "      <td>123.5</td>\n",
              "      <td>12.3</td>\n",
              "      <td>0.28</td>\n",
              "    </tr>\n",
              "    <tr>\n",
              "      <th>1</th>\n",
              "      <td>BH002</td>\n",
              "      <td>345679</td>\n",
              "      <td>765433.0</td>\n",
              "      <td>NaN</td>\n",
              "      <td>10.2</td>\n",
              "      <td>0.49</td>\n",
              "    </tr>\n",
              "    <tr>\n",
              "      <th>2</th>\n",
              "      <td>BH003</td>\n",
              "      <td>765434</td>\n",
              "      <td>345680.0</td>\n",
              "      <td>121.0</td>\n",
              "      <td>-5.6</td>\n",
              "      <td>0.34</td>\n",
              "    </tr>\n",
              "    <tr>\n",
              "      <th>3</th>\n",
              "      <td>BH004</td>\n",
              "      <td>345681</td>\n",
              "      <td>765435.0</td>\n",
              "      <td>124.2</td>\n",
              "      <td>9.8</td>\n",
              "      <td>0.09</td>\n",
              "    </tr>\n",
              "    <tr>\n",
              "      <th>4</th>\n",
              "      <td>BH005</td>\n",
              "      <td>345682</td>\n",
              "      <td>765436.0</td>\n",
              "      <td>124.9</td>\n",
              "      <td>11.1</td>\n",
              "      <td>0.59</td>\n",
              "    </tr>\n",
              "  </tbody>\n",
              "</table>\n",
              "</div>"
            ],
            "text/plain": [
              "  BoreholeName  Xcoord    Ycoord  Zcoord  StaticWaterLevel  Collar\n",
              "0        BH001  345678  765432.0   123.5              12.3    0.28\n",
              "1        BH002  345679  765433.0     NaN              10.2    0.49\n",
              "2        BH003  765434  345680.0   121.0              -5.6    0.34\n",
              "3        BH004  345681  765435.0   124.2               9.8    0.09\n",
              "4        BH005  345682  765436.0   124.9              11.1    0.59"
            ]
          },
          "execution_count": 26,
          "metadata": {},
          "output_type": "execute_result"
        }
      ],
      "source": [
        "# First we open the file into a pandas dataframe\n",
        "df_csv = pd.read_csv(\"./data/Tabulated/borehole_data.csv\")\n",
        "df_csv.head()"
      ]
    },
    {
      "cell_type": "code",
      "execution_count": 27,
      "metadata": {},
      "outputs": [],
      "source": [
        "# Start from here"
      ]
    }
  ],
  "metadata": {
    "colab": {
      "provenance": []
    },
    "kernelspec": {
      "display_name": ".venv",
      "language": "python",
      "name": "python3"
    },
    "language_info": {
      "codemirror_mode": {
        "name": "ipython",
        "version": 3
      },
      "file_extension": ".py",
      "mimetype": "text/x-python",
      "name": "python",
      "nbconvert_exporter": "python",
      "pygments_lexer": "ipython3",
      "version": "3.12.2"
    }
  },
  "nbformat": 4,
  "nbformat_minor": 0
}

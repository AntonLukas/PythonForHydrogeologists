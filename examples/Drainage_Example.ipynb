{
 "cells": [
  {
   "cell_type": "markdown",
   "metadata": {},
   "source": [
    "# DOES NOT WORK UNLESS NUMPY 1.26 IS INSTALLED\n",
    "\n",
    "Create a new environment and specify: 'pip install numpy=1.26' in order to use this notebook."
   ]
  },
  {
   "cell_type": "markdown",
   "metadata": {},
   "source": [
    "# Drainage Networks from DEM Data using pysheds"
   ]
  },
  {
   "cell_type": "code",
   "execution_count": null,
   "metadata": {
    "ExecuteTime": {
     "end_time": "2024-07-24T20:32:55.604478Z",
     "start_time": "2024-07-24T20:32:52.714537Z"
    },
    "collapsed": true
   },
   "outputs": [],
   "source": [
    "import os\n",
    "import numpy as np\n",
    "import geopandas as gpd\n",
    "# Water shed calculations\n",
    "from pysheds.grid import Grid\n",
    "# Plotting libraries\n",
    "import matplotlib.pyplot as plt\n",
    "import matplotlib.colors as colors\n",
    "# Shapely\n",
    "from shapely import geometry, ops\n",
    "# Geojson\n",
    "import geojson\n",
    "# Folium\n",
    "import folium"
   ]
  },
  {
   "cell_type": "code",
   "execution_count": null,
   "metadata": {
    "ExecuteTime": {
     "end_time": "2024-07-24T20:32:55.670437Z",
     "start_time": "2024-07-24T20:32:55.604478Z"
    }
   },
   "outputs": [],
   "source": [
    "# First we need to open our existing shapefiles\n",
    "with open(\"../data/GIS/Barkley_Rivers.geojson\", 'r') as river_file:\n",
    "    be_rivers = geojson.load(river_file)\n",
    "with open(\"../data/GIS/Barkley_SamplingPoints.geojson\", 'r') as sampling_file:\n",
    "    be_sampling = geojson.load(sampling_file)\n",
    "\n",
    "map_be = folium.Map(location=[-31.0, 27.5])\n",
    "folium.GeoJson(be_rivers).add_to(map_be)\n",
    "folium.GeoJson(be_sampling).add_to(map_be)\n",
    "folium.LayerControl().add_to(map_be)\n",
    "\n",
    "map_be"
   ]
  },
  {
   "cell_type": "code",
   "execution_count": null,
   "metadata": {
    "ExecuteTime": {
     "end_time": "2024-07-24T20:32:56.886530Z",
     "start_time": "2024-07-24T20:32:55.670437Z"
    },
    "collapsed": false
   },
   "outputs": [],
   "source": [
    "# Define input path\n",
    "raster_input_file = \"../data/GIS/output_AW3D30.tif\"\n",
    "# Create a grid from input file and load the file\n",
    "dem_input_grid = Grid.from_raster(data=raster_input_file, data_name='dem', nodata= np.array([np.nan], dtype=np.float32)[0])\n",
    "dem_input_file = dem_input_grid.read_raster(raster_input_file)\n",
    "\n",
    "# Define a function to plot the digital elevation model\n",
    "def plot_figure(data, grid, label):\n",
    "    plt.figure()\n",
    "    plt.imshow(data, extent=grid.extent, zorder=1)\n",
    "    plt.colorbar(label='Elevation (m)')\n",
    "    plt.grid(zorder=0)\n",
    "\n",
    "# Plot the loaded raster\n",
    "plot_figure(dem_input_file, dem_input_grid, 'Elevation (m)')"
   ]
  },
  {
   "cell_type": "code",
   "execution_count": null,
   "metadata": {
    "ExecuteTime": {
     "end_time": "2024-07-24T20:33:30.828733Z",
     "start_time": "2024-07-24T20:32:56.887593Z"
    },
    "collapsed": false
   },
   "outputs": [],
   "source": [
    "# Detect depressions\n",
    "depressions = dem_input_grid.detect_depressions(dem_input_file)"
   ]
  },
  {
   "cell_type": "code",
   "execution_count": null,
   "metadata": {
    "ExecuteTime": {
     "end_time": "2024-07-24T20:34:06.654433Z",
     "start_time": "2024-07-24T20:33:30.828733Z"
    },
    "collapsed": false
   },
   "outputs": [],
   "source": [
    "# Fill pits\n",
    "pit_filled_dem = dem_input_grid.fill_pits(dem_input_file)\n",
    "# Fill depressions\n",
    "flooded_dem = dem_input_grid.fill_depressions(pit_filled_dem)\n",
    "# Resolve flats in the model\n",
    "inflated_dem = dem_input_grid.resolve_flats(flooded_dem)\n",
    "# Create a flow direction grid\n",
    "#         N    NE    E    SE    S    SW    W    NW\n",
    "dirmap = (64,  128,  1,   2,    4,   8,    16,  32)\n",
    "# Calculate flow directions\n",
    "flow_dir = dem_input_grid.flowdir(inflated_dem, dirmap=dirmap)\n",
    "# Plot the flow directions\n",
    "plot_figure(flow_dir, dem_input_grid, 'Flow Direction')"
   ]
  },
  {
   "cell_type": "code",
   "execution_count": null,
   "metadata": {
    "ExecuteTime": {
     "end_time": "2024-07-24T20:34:09.884068Z",
     "start_time": "2024-07-24T20:34:06.654433Z"
    },
    "collapsed": false
   },
   "outputs": [],
   "source": [
    "# Calculate accumulation\n",
    "accumulation = dem_input_grid.accumulation(flow_dir, dirmap=dirmap)\n",
    "# Plot accumulation\n",
    "fig_acc, ax_acc = plt.subplots(figsize=(8,6))\n",
    "fig_acc.patch.set_alpha(0)\n",
    "plt.grid('on', zorder=0)\n",
    "im = ax_acc.imshow(accumulation, extent=dem_input_grid.extent, zorder=2,\n",
    "               cmap='cubehelix',\n",
    "               norm=colors.LogNorm(1, accumulation.max()),\n",
    "               interpolation='bilinear')\n",
    "plt.colorbar(im, ax=ax_acc, label='Upstream Cells')\n",
    "plt.title('Flow Accumulation', size=14)\n",
    "plt.xlabel('Longitude')\n",
    "plt.ylabel('Latitude')\n",
    "plt.tight_layout()"
   ]
  },
  {
   "cell_type": "code",
   "execution_count": null,
   "metadata": {
    "ExecuteTime": {
     "end_time": "2024-07-24T20:34:11.930130Z",
     "start_time": "2024-07-24T20:34:09.884068Z"
    },
    "collapsed": false
   },
   "outputs": [],
   "source": [
    "# Specify discharge point\n",
    "x, y = 26.7655, -30.7081\n",
    "\n",
    "# Snap the discharge point to the high accumulation point on the grid\n",
    "x_snap, y_snap = dem_input_grid.snap_to_mask(accumulation > 100000, (x, y)) #100k\n",
    "\n",
    "# Delineate the catchment\n",
    "catchment = dem_input_grid.catchment(fdir=flow_dir, x=x_snap, y=y_snap, dirmap=dirmap, xytype='label')\n",
    "\n",
    "# Plot the catchment\n",
    "dem_input_grid.clip_to(catchment)\n",
    "clipped_catch = dem_input_grid.view(catchment)\n",
    "plot_figure(clipped_catch, dem_input_grid, \"None\")"
   ]
  },
  {
   "cell_type": "code",
   "execution_count": null,
   "metadata": {
    "ExecuteTime": {
     "end_time": "2024-07-24T20:34:15.152559Z",
     "start_time": "2024-07-24T20:34:11.930130Z"
    },
    "collapsed": false
   },
   "outputs": [],
   "source": [
    "# Calculate river branches\n",
    "branches = dem_input_grid.extract_river_network(flow_dir, accumulation > 1000, dirmap=dirmap) #10k\n",
    "# Create a figure for the branches\n",
    "fig_branches, ax_branches = plt.subplots(figsize=(8.5,6.5))\n",
    "plt.xlim(dem_input_grid.bbox[0], dem_input_grid.bbox[2])\n",
    "plt.ylim(dem_input_grid.bbox[1], dem_input_grid.bbox[3])\n",
    "ax_branches.set_aspect('equal')\n",
    "# Plot the branches\n",
    "for branch in branches['features']:\n",
    "    line = np.asarray(branch['geometry']['coordinates'])\n",
    "    plt.plot(line[:, 0], line[:, 1])\n",
    "# Set the figure title\n",
    "_ = plt.title('D8 channels', size=14)"
   ]
  },
  {
   "cell_type": "code",
   "execution_count": null,
   "metadata": {
    "ExecuteTime": {
     "end_time": "2024-07-24T20:34:22.726600Z",
     "start_time": "2024-07-24T20:34:15.152559Z"
    },
    "collapsed": false
   },
   "outputs": [],
   "source": [
    "out_file_geojson = '../output/rivers_extracted.geojson'\n",
    "\n",
    "with open(out_file_geojson, 'w') as outfile:\n",
    "     geojson.dump(branches, outfile)\n",
    "\n",
    "dfBranches = gpd.read_file(out_file_geojson)\n",
    "\n",
    "dfBranches.explore(tiles='https://mt1.google.com/vt/lyrs=s&x={x}&y={y}&z={z}', attr='Google Earth')"
   ]
  },
  {
   "cell_type": "code",
   "execution_count": null,
   "metadata": {
    "ExecuteTime": {
     "end_time": "2024-07-24T20:34:23.152768Z",
     "start_time": "2024-07-24T20:34:22.726600Z"
    },
    "collapsed": false
   },
   "outputs": [],
   "source": [
    "map_be_mod = folium.Map(location=[-31.0, 27.5])\n",
    "folium.GeoJson(be_rivers).add_to(map_be_mod)\n",
    "folium.GeoJson(be_sampling).add_to(map_be_mod)\n",
    "folium.GeoJson(branches).add_to(map_be_mod)\n",
    "folium.LayerControl().add_to(map_be_mod)\n",
    "\n",
    "map_be_mod"
   ]
  },
  {
   "cell_type": "code",
   "execution_count": null,
   "metadata": {
    "ExecuteTime": {
     "end_time": "2024-07-24T20:34:24.478334Z",
     "start_time": "2024-07-24T20:34:23.153886Z"
    },
    "collapsed": false
   },
   "outputs": [],
   "source": [
    "map_be_mod.save(\"../output/rivers.html\")"
   ]
  },
  {
   "cell_type": "code",
   "execution_count": null,
   "metadata": {
    "ExecuteTime": {
     "end_time": "2024-07-24T20:34:24.480866Z",
     "start_time": "2024-07-24T20:34:24.478334Z"
    }
   },
   "outputs": [],
   "source": []
  }
 ],
 "metadata": {
  "kernelspec": {
   "display_name": ".venv",
   "language": "python",
   "name": "python3"
  },
  "language_info": {
   "codemirror_mode": {
    "name": "ipython",
    "version": 3
   },
   "file_extension": ".py",
   "mimetype": "text/x-python",
   "name": "python",
   "nbconvert_exporter": "python",
   "pygments_lexer": "ipython3",
   "version": "3.12.2"
  }
 },
 "nbformat": 4,
 "nbformat_minor": 0
}

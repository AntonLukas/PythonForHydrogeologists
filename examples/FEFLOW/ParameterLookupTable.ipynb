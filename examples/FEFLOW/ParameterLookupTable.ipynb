{
 "cells": [
  {
   "cell_type": "code",
   "execution_count": 1,
   "id": "initial_id",
   "metadata": {
    "ExecuteTime": {
     "end_time": "2024-11-11T11:20:49.777624Z",
     "start_time": "2024-11-11T11:20:35.351976Z"
    },
    "collapsed": true
   },
   "outputs": [],
   "source": [
    "# Import only the packages necessary to check if FEFLOW and ifm_contrib is present\n",
    "import sys\n",
    "import os\n",
    "\n",
    "# Check the current operating system\n",
    "if sys.platform == 'win32':  # For Windows use \\\\, for Linux use /\n",
    "    sys.path.append('C:\\\\Program Files\\\\DHI\\\\2025\\\\FEFLOW 10.0\\\\python')\n",
    "    os.environ['FEFLOW10_ROOT'] = 'C:\\\\Program Files\\\\DHI\\\\2025\\\\FEFLOW 10.0\\\\'\n",
    "    os.environ['FEFLOW_KERNEL_VERSION'] = '10'  # Modify for your use e.g. FEFLOW 7.4 would be 74\n",
    "elif sys.platform == 'linux':\n",
    "    sys.path.append('/opt/feflow/10.0/python/')\n",
    "    os.environ['FEFLOW10_ROOT'] = '/opt/feflow/10.0/'\n",
    "    os.environ['FEFLOW_KERNEL_VERSION'] = '10'  # Modify for your use e.g. FEFLOW 7.4 would be 74\n",
    "else:\n",
    "    sys.exit(\"Unsupported operating system.\")\n",
    "# Try to import the ifm package\n",
    "try:\n",
    "    from ifm import Enum\n",
    "    import ifm_contrib as ifm\n",
    "except ModuleNotFoundError:\n",
    "    sys.exit(\"ifm_contrib could not be imported.\")\n",
    "# Check which version of FEFLOW is being used\n",
    "if ifm.getKernelVersion() < 8000:\n",
    "    sys.exit(\"This script is designed for FEFLOW version 8 and higher.\")\n",
    "\n",
    "# Import the rest of the required packages\n",
    "import pandas as pd\n",
    "import matplotlib.pyplot as plt\n",
    "import time"
   ]
  },
  {
   "cell_type": "code",
   "execution_count": 2,
   "id": "918419a18806a03d",
   "metadata": {
    "ExecuteTime": {
     "end_time": "2024-11-11T11:20:50.880657Z",
     "start_time": "2024-11-11T11:20:49.778627Z"
    }
   },
   "outputs": [],
   "source": [
    "# Define the location of the FEFLOW FEM file\n",
    "INPUT_FEM = os.path.join(os.path.join(os.getcwd(), \"fem\"), \"MonteCarlo.fem\")\n",
    "# Create the variable to load the FEM file\n",
    "doc = None\n",
    "loaded = False\n",
    "# Create a variable to track the number of reconnection attempts\n",
    "reconnection_attempts = 0\n",
    "\n",
    "# Attempt to load the FEM file\n",
    "while not loaded:\n",
    "    try:\n",
    "        # Load the FEFLOW model\n",
    "        doc = ifm.loadDocument(INPUT_FEM)\n",
    "        # Set the boolean to true for success\n",
    "        loaded = True\n",
    "    except ConnectionError:\n",
    "        # Print an error message\n",
    "        print(\"Failed to establish a connection to the FEFLOW license server.\")\n",
    "        # Check how many reconnection attempts have been made\n",
    "        if reconnection_attempts > 3:\n",
    "            sys.exit(f\"Failed to establish a connection to the FEFLOW license server after {reconnection_attempts} attempts.\")\n",
    "        else:\n",
    "            # Wait and retry\n",
    "            time.sleep(300)\n",
    "            reconnection_attempts += 1\n",
    "    except FileNotFoundError:\n",
    "        # Exit the program\n",
    "        sys.exit(\"Failed to find the specified FEFLOW model.\")"
   ]
  },
  {
   "cell_type": "code",
   "execution_count": 3,
   "id": "125f49a31d65600f",
   "metadata": {
    "ExecuteTime": {
     "end_time": "2024-11-11T11:20:50.884884Z",
     "start_time": "2024-11-11T11:20:50.880657Z"
    }
   },
   "outputs": [
    {
     "data": {
      "text/plain": [
       "{'Sandstone': 1, 'Basalt': 2}"
      ]
     },
     "execution_count": 3,
     "metadata": {},
     "output_type": "execute_result"
    }
   ],
   "source": [
    "# Get and display the parameter lookup table\n",
    "lookup_table = doc.getLookupTable()\n",
    "lookup_table.getMaterials()"
   ]
  },
  {
   "cell_type": "code",
   "execution_count": 4,
   "id": "66956592801a2ba6",
   "metadata": {
    "ExecuteTime": {
     "end_time": "2024-11-11T11:20:50.894163Z",
     "start_time": "2024-11-11T11:20:50.884884Z"
    }
   },
   "outputs": [
    {
     "name": "stdout",
     "output_type": "stream",
     "text": [
      "1\n"
     ]
    }
   ],
   "source": [
    "# Get the ID of a material if you don't want to use the table\n",
    "mat_id = lookup_table.findMaterial(\"Sandstone\")\n",
    "print(mat_id)"
   ]
  },
  {
   "cell_type": "code",
   "execution_count": 5,
   "id": "98bf0cda6dc6ac5c",
   "metadata": {
    "ExecuteTime": {
     "end_time": "2024-11-11T11:20:50.917656Z",
     "start_time": "2024-11-11T11:20:50.895168Z"
    }
   },
   "outputs": [
    {
     "data": {
      "text/plain": [
       "{'Sandstone': 1, 'Basalt': 2, 'Shale': 3}"
      ]
     },
     "execution_count": 5,
     "metadata": {},
     "output_type": "execute_result"
    }
   ],
   "source": [
    "# Add a material\n",
    "lookup_table.addMaterial(\"Shale\")\n",
    "lookup_table.getMaterials()"
   ]
  },
  {
   "cell_type": "code",
   "execution_count": 6,
   "id": "71ae6396f70870ac",
   "metadata": {
    "ExecuteTime": {
     "end_time": "2024-11-11T11:20:50.933601Z",
     "start_time": "2024-11-11T11:20:50.917656Z"
    }
   },
   "outputs": [
    {
     "data": {
      "text/plain": [
       "{'Sandstone': 1, 'Basalt': 2, 'Fractured shale': 3}"
      ]
     },
     "execution_count": 6,
     "metadata": {},
     "output_type": "execute_result"
    }
   ],
   "source": [
    "# Rename a material\n",
    "lookup_table.setMaterialName(lookup_table.findMaterial(\"Shale\"), \"Fractured shale\")\n",
    "lookup_table.getMaterials()"
   ]
  },
  {
   "cell_type": "code",
   "execution_count": 7,
   "id": "38aff1b96a1ae305",
   "metadata": {
    "ExecuteTime": {
     "end_time": "2024-11-11T11:20:50.948654Z",
     "start_time": "2024-11-11T11:20:50.933601Z"
    }
   },
   "outputs": [
    {
     "data": {
      "text/plain": [
       "{'Sandstone': 1, 'Basalt': 2}"
      ]
     },
     "execution_count": 7,
     "metadata": {},
     "output_type": "execute_result"
    }
   ],
   "source": [
    "# Remove a material\n",
    "lookup_table.removeMaterial(lookup_table.findMaterial(\"Fractured shale\"))\n",
    "lookup_table.getMaterials()"
   ]
  },
  {
   "cell_type": "code",
   "execution_count": 8,
   "id": "927b8e694e33d839",
   "metadata": {
    "ExecuteTime": {
     "end_time": "2024-11-11T11:20:50.956674Z",
     "start_time": "2024-11-11T11:20:50.949658Z"
    }
   },
   "outputs": [
    {
     "name": "stdout",
     "output_type": "stream",
     "text": [
      "Sandstone has conductivity: True\n",
      "Sandstone has porosity: False\n"
     ]
    },
    {
     "data": {
      "text/plain": [
       "{101: 1.0}"
      ]
     },
     "execution_count": 8,
     "metadata": {},
     "output_type": "execute_result"
    }
   ],
   "source": [
    "# First, before we change parameter values of materials, always check if the material has the parameter\n",
    "print(f\"Sandstone has conductivity: {lookup_table.hasProperty(lookup_table.findMaterial(\"Sandstone\"), Enum.P_CONDX)}\")\n",
    "print(f\"Sandstone has porosity: {lookup_table.hasProperty(lookup_table.findMaterial(\"Sandstone\"), Enum.P_UPORO)}\")\n",
    "# We can also get the entire parameter values list for a material with:\n",
    "lookup_table.getProperties(lookup_table.findMaterial(\"Sandstone\"))"
   ]
  },
  {
   "cell_type": "code",
   "execution_count": 9,
   "id": "c766da8929ff26a6",
   "metadata": {
    "ExecuteTime": {
     "end_time": "2024-11-11T11:20:51.021254Z",
     "start_time": "2024-11-11T11:20:50.957680Z"
    }
   },
   "outputs": [
    {
     "data": {
      "text/plain": [
       "{101: 0.5, 103: 0.5, 105: 0.05, 117: 0.1}"
      ]
     },
     "execution_count": 9,
     "metadata": {},
     "output_type": "execute_result"
    }
   ],
   "source": [
    "# Set the parameter values of a material\n",
    "lookup_table.setPropertyValue(lookup_table.findMaterial(\"Sandstone\"), Enum.P_CONDX, 5e-1)\n",
    "lookup_table.setPropertyValue(lookup_table.findMaterial(\"Basalt\"), Enum.P_CONDX, 2e-2)\n",
    "lookup_table.setPropertyValue(lookup_table.findMaterial(\"Sandstone\"), Enum.P_CONDY, 5e-1)\n",
    "lookup_table.setPropertyValue(lookup_table.findMaterial(\"Basalt\"), Enum.P_CONDY, 2e-2)\n",
    "lookup_table.setPropertyValue(lookup_table.findMaterial(\"Sandstone\"), Enum.P_CONDZ, 5e-2)\n",
    "lookup_table.setPropertyValue(lookup_table.findMaterial(\"Basalt\"), Enum.P_CONDZ, 5e-4)\n",
    "lookup_table.setPropertyValue(lookup_table.findMaterial(\"Sandstone\"), Enum.P_UPORO, 1e-1)\n",
    "lookup_table.setPropertyValue(lookup_table.findMaterial(\"Basalt\"), Enum.P_UPORO, 2e-1)\n",
    "# And subsequently view the material parameter value\n",
    "lookup_table.getPropertyValue(lookup_table.findMaterial(\"Sandstone\"), Enum.P_CONDX)\n",
    "# We can also check everything that been assigned to this material\n",
    "lookup_table.getProperties(lookup_table.findMaterial(\"Sandstone\"))"
   ]
  },
  {
   "cell_type": "code",
   "execution_count": 10,
   "id": "d554e9b9d9c73172",
   "metadata": {
    "ExecuteTime": {
     "end_time": "2024-11-11T11:20:51.294287Z",
     "start_time": "2024-11-11T11:20:51.021254Z"
    }
   },
   "outputs": [],
   "source": [
    "# Close the FEM file\n",
    "doc.closeDocument()"
   ]
  }
 ],
 "metadata": {
  "kernelspec": {
   "display_name": ".venv",
   "language": "python",
   "name": "python3"
  },
  "language_info": {
   "codemirror_mode": {
    "name": "ipython",
    "version": 3
   },
   "file_extension": ".py",
   "mimetype": "text/x-python",
   "name": "python",
   "nbconvert_exporter": "python",
   "pygments_lexer": "ipython3",
   "version": "3.12.2"
  }
 },
 "nbformat": 4,
 "nbformat_minor": 5
}
